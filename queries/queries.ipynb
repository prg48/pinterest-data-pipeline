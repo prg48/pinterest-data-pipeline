{
 "cells": [
  {
   "cell_type": "markdown",
   "metadata": {
    "application/vnd.databricks.v1+cell": {
     "cellMetadata": {},
     "inputWidgets": {},
     "nuid": "31fa1dbd-e122-4a7e-88f1-4e775b37c64d",
     "showTitle": false,
     "title": ""
    }
   },
   "source": [
    "# Load Data"
   ]
  },
  {
   "cell_type": "code",
   "execution_count": 0,
   "metadata": {
    "application/vnd.databricks.v1+cell": {
     "cellMetadata": {
      "byteLimit": 2048000,
      "rowLimit": 10000
     },
     "inputWidgets": {},
     "nuid": "b42b1b86-7f00-4c0c-9ede-8b2889c7cacf",
     "showTitle": false,
     "title": ""
    }
   },
   "outputs": [
    {
     "output_type": "display_data",
     "data": {
      "text/html": [
       "<style scoped>\n",
       "  .ansiout {\n",
       "    display: block;\n",
       "    unicode-bidi: embed;\n",
       "    white-space: pre-wrap;\n",
       "    word-wrap: break-word;\n",
       "    word-break: break-all;\n",
       "    font-family: \"Menlo\", \"Monaco\", \"Consolas\", \"Ubuntu Mono\", \"Source Code Pro\", monospace;\n",
       "    font-size: 13px;\n",
       "    color: #555;\n",
       "    margin-left: 4px;\n",
       "    line-height: 19px;\n",
       "  }\n",
       "</style>\n",
       "<div class=\"ansiout\"></div>"
      ]
     },
     "metadata": {
      "application/vnd.databricks.v1+output": {
       "addedWidgets": {},
       "arguments": {},
       "data": "<div class=\"ansiout\"></div>",
       "datasetInfos": [],
       "metadata": {},
       "removedWidgets": [],
       "type": "html"
      }
     },
     "output_type": "display_data"
    }
   ],
   "source": [
    "import pyspark.sql.functions as F\n",
    "from functools import reduce\n",
    "from pyspark.sql import Window"
   ]
  },
  {
   "cell_type": "code",
   "execution_count": 0,
   "metadata": {
    "application/vnd.databricks.v1+cell": {
     "cellMetadata": {
      "byteLimit": 2048000,
      "rowLimit": 10000
     },
     "inputWidgets": {},
     "nuid": "a549e998-c64e-43cd-b358-16da35db58b3",
     "showTitle": false,
     "title": ""
    }
   },
   "outputs": [
    {
     "output_type": "display_data",
     "data": {
      "text/html": [
       "<style scoped>\n",
       "  .ansiout {\n",
       "    display: block;\n",
       "    unicode-bidi: embed;\n",
       "    white-space: pre-wrap;\n",
       "    word-wrap: break-word;\n",
       "    word-break: break-all;\n",
       "    font-family: \"Menlo\", \"Monaco\", \"Consolas\", \"Ubuntu Mono\", \"Source Code Pro\", monospace;\n",
       "    font-size: 13px;\n",
       "    color: #555;\n",
       "    margin-left: 4px;\n",
       "    line-height: 19px;\n",
       "  }\n",
       "</style>\n",
       "<div class=\"ansiout\"></div>"
      ]
     },
     "metadata": {
      "application/vnd.databricks.v1+output": {
       "addedWidgets": {},
       "arguments": {},
       "data": "<div class=\"ansiout\"></div>",
       "datasetInfos": [],
       "metadata": {},
       "removedWidgets": [],
       "type": "html"
      }
     },
     "output_type": "display_data"
    }
   ],
   "source": [
    "#### file paths\n",
    "# delta table paths for geo_df, pin_df and user_df\n",
    "delta_base_path = \"/mnt/pinterest_data/delta_tables/\"\n",
    "\n",
    "#### Paths for raw/original data\n",
    "raw_delta_geo_path = delta_base_path + \"raw/geo\"\n",
    "raw_delta_pin_path = delta_base_path + \"raw/pin\"\n",
    "raw_delta_user_path = delta_base_path + \"raw/user\"\n",
    "\n",
    "#### Paths for transformed/processed data\n",
    "transformed_delta_geo_path = delta_base_path + \"transformed/geo\"\n",
    "transformed_delta_pin_path = delta_base_path + \"transformed/pin\"\n",
    "transformed_delta_user_path = delta_base_path + \"transformed/user\""
   ]
  },
  {
   "cell_type": "code",
   "execution_count": 0,
   "metadata": {
    "application/vnd.databricks.v1+cell": {
     "cellMetadata": {
      "byteLimit": 2048000,
      "rowLimit": 10000
     },
     "inputWidgets": {},
     "nuid": "1818f71d-7e69-469c-9546-a873c22ad9e0",
     "showTitle": false,
     "title": ""
    }
   },
   "outputs": [
    {
     "output_type": "display_data",
     "data": {
      "text/html": [
       "<style scoped>\n",
       "  .ansiout {\n",
       "    display: block;\n",
       "    unicode-bidi: embed;\n",
       "    white-space: pre-wrap;\n",
       "    word-wrap: break-word;\n",
       "    word-break: break-all;\n",
       "    font-family: \"Menlo\", \"Monaco\", \"Consolas\", \"Ubuntu Mono\", \"Source Code Pro\", monospace;\n",
       "    font-size: 13px;\n",
       "    color: #555;\n",
       "    margin-left: 4px;\n",
       "    line-height: 19px;\n",
       "  }\n",
       "</style>\n",
       "<div class=\"ansiout\">root\n",
       "-- ind: long (nullable = true)\n",
       "-- unique_id: string (nullable = true)\n",
       "-- title: string (nullable = true)\n",
       "-- description: string (nullable = true)\n",
       "-- follower_count: integer (nullable = true)\n",
       "-- poster_name: string (nullable = true)\n",
       "-- tag_list: string (nullable = true)\n",
       "-- is_image_or_video: string (nullable = true)\n",
       "-- image_src: string (nullable = true)\n",
       "-- save_location: string (nullable = true)\n",
       "-- category: string (nullable = true)\n",
       "\n",
       "root\n",
       "-- ind: long (nullable = true)\n",
       "-- country: string (nullable = true)\n",
       "-- coordinates: struct (nullable = true)\n",
       "    |-- latitude: double (nullable = true)\n",
       "    |-- longitude: double (nullable = true)\n",
       "-- timestamp: timestamp (nullable = true)\n",
       "\n",
       "root\n",
       "-- ind: long (nullable = true)\n",
       "-- user_name: string (nullable = true)\n",
       "-- age: long (nullable = true)\n",
       "-- date_joined: timestamp (nullable = true)\n",
       "\n",
       "</div>"
      ]
     },
     "metadata": {
      "application/vnd.databricks.v1+output": {
       "addedWidgets": {},
       "arguments": {},
       "data": "<div class=\"ansiout\">root\n |-- ind: long (nullable = true)\n |-- unique_id: string (nullable = true)\n |-- title: string (nullable = true)\n |-- description: string (nullable = true)\n |-- follower_count: integer (nullable = true)\n |-- poster_name: string (nullable = true)\n |-- tag_list: string (nullable = true)\n |-- is_image_or_video: string (nullable = true)\n |-- image_src: string (nullable = true)\n |-- save_location: string (nullable = true)\n |-- category: string (nullable = true)\n\nroot\n |-- ind: long (nullable = true)\n |-- country: string (nullable = true)\n |-- coordinates: struct (nullable = true)\n |    |-- latitude: double (nullable = true)\n |    |-- longitude: double (nullable = true)\n |-- timestamp: timestamp (nullable = true)\n\nroot\n |-- ind: long (nullable = true)\n |-- user_name: string (nullable = true)\n |-- age: long (nullable = true)\n |-- date_joined: timestamp (nullable = true)\n\n</div>",
       "datasetInfos": [],
       "metadata": {},
       "removedWidgets": [],
       "type": "html"
      }
     },
     "output_type": "display_data"
    }
   ],
   "source": [
    "# load the dataframes and check schema\n",
    "df_pin = spark.read.format(\"delta\").load(transformed_delta_pin_path)\n",
    "df_geo = spark.read.format(\"delta\").load(transformed_delta_geo_path)\n",
    "df_user = spark.read.format(\"delta\").load(transformed_delta_user_path)\n",
    "\n",
    "df_pin.printSchema()\n",
    "df_geo.printSchema()\n",
    "df_user.printSchema()"
   ]
  },
  {
   "cell_type": "code",
   "execution_count": 0,
   "metadata": {
    "application/vnd.databricks.v1+cell": {
     "cellMetadata": {
      "byteLimit": 2048000,
      "implicitDf": true,
      "rowLimit": 10000
     },
     "inputWidgets": {},
     "nuid": "78884733-8afc-4d01-9e92-6115f8e9ec96",
     "showTitle": false,
     "title": ""
    }
   },
   "outputs": [
    {
     "output_type": "display_data",
     "data": {
      "text/html": [
       "<style scoped>\n",
       "  .ansiout {\n",
       "    display: block;\n",
       "    unicode-bidi: embed;\n",
       "    white-space: pre-wrap;\n",
       "    word-wrap: break-word;\n",
       "    word-break: break-all;\n",
       "    font-family: \"Menlo\", \"Monaco\", \"Consolas\", \"Ubuntu Mono\", \"Source Code Pro\", monospace;\n",
       "    font-size: 13px;\n",
       "    color: #555;\n",
       "    margin-left: 4px;\n",
       "    line-height: 19px;\n",
       "  }\n",
       "</style>\n",
       "<div class=\"ansiout\"></div>"
      ]
     },
     "metadata": {
      "application/vnd.databricks.v1+output": {
       "addedWidgets": {},
       "arguments": {},
       "data": "<div class=\"ansiout\"></div>",
       "datasetInfos": [],
       "metadata": {},
       "removedWidgets": [],
       "type": "html"
      }
     },
     "output_type": "display_data"
    }
   ],
   "source": [
    "# create views of the three dataframes to run sql queries on it\n",
    "df_geo.createOrReplaceTempView(\"view_geo\")\n",
    "df_pin.createOrReplaceTempView(\"view_pin\")\n",
    "df_user.createOrReplaceTempView(\"view_user\")"
   ]
  },
  {
   "cell_type": "markdown",
   "metadata": {
    "application/vnd.databricks.v1+cell": {
     "cellMetadata": {},
     "inputWidgets": {},
     "nuid": "2da9ce8f-7ec8-4602-89ce-39b08ed3cb07",
     "showTitle": false,
     "title": ""
    }
   },
   "source": [
    "# Find the most popular category in each country"
   ]
  },
  {
   "cell_type": "markdown",
   "metadata": {
    "application/vnd.databricks.v1+cell": {
     "cellMetadata": {},
     "inputWidgets": {},
     "nuid": "28db090a-425e-47d4-be3a-df54d40deb6f",
     "showTitle": false,
     "title": ""
    }
   },
   "source": [
    "## Spark"
   ]
  },
  {
   "cell_type": "code",
   "execution_count": 0,
   "metadata": {
    "application/vnd.databricks.v1+cell": {
     "cellMetadata": {
      "byteLimit": 2048000,
      "rowLimit": 10000
     },
     "inputWidgets": {},
     "nuid": "1aeea332-745a-40f1-81d4-16e58fd6f60e",
     "showTitle": false,
     "title": ""
    }
   },
   "outputs": [
    {
     "output_type": "display_data",
     "data": {
      "text/html": [
       "<style scoped>\n",
       "  .ansiout {\n",
       "    display: block;\n",
       "    unicode-bidi: embed;\n",
       "    white-space: pre-wrap;\n",
       "    word-wrap: break-word;\n",
       "    word-break: break-all;\n",
       "    font-family: \"Menlo\", \"Monaco\", \"Consolas\", \"Ubuntu Mono\", \"Source Code Pro\", monospace;\n",
       "    font-size: 13px;\n",
       "    color: #555;\n",
       "    margin-left: 4px;\n",
       "    line-height: 19px;\n",
       "  }\n",
       "</style>\n",
       "<div class=\"ansiout\"></div>"
      ]
     },
     "metadata": {
      "application/vnd.databricks.v1+output": {
       "addedWidgets": {},
       "arguments": {},
       "data": "<div class=\"ansiout\"></div>",
       "datasetInfos": [],
       "metadata": {},
       "removedWidgets": [],
       "type": "html"
      }
     },
     "output_type": "display_data"
    }
   ],
   "source": [
    "# create a window function that is partitioned by 'country' and ordered in descending order\n",
    "window = Window.partitionBy(\"country\").orderBy(F.desc(\"count\"))\n",
    "\n",
    "# join pinterest and geolocation data, group by country and category and then count the instances, then create a ranking column over the window function, filter by the first rank, drop the rank column and rename count column.\n",
    "popular_category_in_each_country_spark = (df_pin.join(\n",
    "    df_geo,\n",
    "    on=df_pin.ind == df_geo.ind,\n",
    "    how=\"inner\"\n",
    ")\n",
    ".groupBy(\n",
    "    \"country\", \"category\"\n",
    ")\n",
    ".agg(F.count(\"*\").alias(\"count\"))\n",
    ".withColumn(\n",
    "    \"rank\",\n",
    "    F.rank().over(window)\n",
    ")\n",
    ".filter(F.col(\"rank\") == 1)\n",
    ".drop(\"rank\")\n",
    ".withColumnRenamed(\"count\", \"category_count\")\n",
    ")"
   ]
  },
  {
   "cell_type": "code",
   "execution_count": 0,
   "metadata": {
    "application/vnd.databricks.v1+cell": {
     "cellMetadata": {
      "byteLimit": 2048000,
      "rowLimit": 10000
     },
     "inputWidgets": {},
     "nuid": "f76be719-c41e-4082-827c-bdab1e01f64e",
     "showTitle": false,
     "title": ""
    }
   },
   "outputs": [
    {
     "output_type": "display_data",
     "data": {
      "text/html": [
       "<style scoped>\n",
       "  .table-result-container {\n",
       "    max-height: 300px;\n",
       "    overflow: auto;\n",
       "  }\n",
       "  table, th, td {\n",
       "    border: 1px solid black;\n",
       "    border-collapse: collapse;\n",
       "  }\n",
       "  th, td {\n",
       "    padding: 5px;\n",
       "  }\n",
       "  th {\n",
       "    text-align: left;\n",
       "  }\n",
       "</style><div class='table-result-container'><table class='table-result'><thead style='background-color: white'><tr><th>country</th><th>category</th><th>category_count</th></tr></thead><tbody><tr><td>Afghanistan</td><td>education</td><td>94</td></tr><tr><td>Albania</td><td>art</td><td>193</td></tr><tr><td>Algeria</td><td>quotes</td><td>256</td></tr><tr><td>American Samoa</td><td>tattoos</td><td>98</td></tr><tr><td>Andorra</td><td>tattoos</td><td>77</td></tr><tr><td>Angola</td><td>education</td><td>30</td></tr><tr><td>Anguilla</td><td>christmas</td><td>25</td></tr><tr><td>Antarctica (the territory South of 60 deg S)</td><td>christmas</td><td>36</td></tr><tr><td>Antigua and Barbuda</td><td>travel</td><td>29</td></tr><tr><td>Argentina</td><td>tattoos</td><td>72</td></tr><tr><td>Armenia</td><td>vehicles</td><td>28</td></tr><tr><td>Aruba</td><td>christmas</td><td>56</td></tr><tr><td>Australia</td><td>christmas</td><td>17</td></tr><tr><td>Austria</td><td>tattoos</td><td>30</td></tr><tr><td>Azerbaijan</td><td>finance</td><td>35</td></tr><tr><td>Bahamas</td><td>event-planning</td><td>41</td></tr><tr><td>Bahrain</td><td>finance</td><td>12</td></tr><tr><td>Bangladesh</td><td>christmas</td><td>36</td></tr><tr><td>Barbados</td><td>art</td><td>24</td></tr><tr><td>Belarus</td><td>travel</td><td>19</td></tr><tr><td>Belgium</td><td>diy-and-crafts</td><td>14</td></tr><tr><td>Belize</td><td>diy-and-crafts</td><td>22</td></tr><tr><td>Benin</td><td>tattoos</td><td>20</td></tr><tr><td>Bermuda</td><td>tattoos</td><td>22</td></tr><tr><td>Bhutan</td><td>event-planning</td><td>10</td></tr><tr><td>Bhutan</td><td>christmas</td><td>10</td></tr><tr><td>Bolivia</td><td>home-decor</td><td>27</td></tr><tr><td>Bosnia and Herzegovina</td><td>tattoos</td><td>23</td></tr><tr><td>Botswana</td><td>finance</td><td>17</td></tr><tr><td>Bouvet Island (Bouvetoya)</td><td>travel</td><td>26</td></tr><tr><td>Brazil</td><td>home-decor</td><td>15</td></tr><tr><td>British Indian Ocean Territory (Chagos Archipelago)</td><td>mens-fashion</td><td>15</td></tr><tr><td>British Virgin Islands</td><td>christmas</td><td>20</td></tr><tr><td>Brunei Darussalam</td><td>event-planning</td><td>9</td></tr><tr><td>Bulgaria</td><td>education</td><td>17</td></tr><tr><td>Burkina Faso</td><td>vehicles</td><td>14</td></tr><tr><td>Burkina Faso</td><td>quotes</td><td>14</td></tr><tr><td>Burundi</td><td>beauty</td><td>13</td></tr><tr><td>Cambodia</td><td>beauty</td><td>8</td></tr><tr><td>Cameroon</td><td>art</td><td>13</td></tr><tr><td>Canada</td><td>event-planning</td><td>10</td></tr><tr><td>Cape Verde</td><td>travel</td><td>11</td></tr><tr><td>Cayman Islands</td><td>diy-and-crafts</td><td>8</td></tr><tr><td>Central African Republic</td><td>education</td><td>12</td></tr><tr><td>Chad</td><td>diy-and-crafts</td><td>16</td></tr><tr><td>Chile</td><td>mens-fashion</td><td>11</td></tr><tr><td>China</td><td>vehicles</td><td>5</td></tr><tr><td>Christmas Island</td><td>travel</td><td>18</td></tr><tr><td>Cocos (Keeling) Islands</td><td>finance</td><td>9</td></tr><tr><td>Colombia</td><td>christmas</td><td>12</td></tr><tr><td>Comoros</td><td>diy-and-crafts</td><td>15</td></tr><tr><td>Congo</td><td>travel</td><td>17</td></tr><tr><td>Cook Islands</td><td>diy-and-crafts</td><td>9</td></tr><tr><td>Costa Rica</td><td>home-decor</td><td>16</td></tr><tr><td>Cote d'Ivoire</td><td>beauty</td><td>10</td></tr><tr><td>Croatia</td><td>finance</td><td>11</td></tr><tr><td>Cuba</td><td>tattoos</td><td>11</td></tr><tr><td>Cyprus</td><td>vehicles</td><td>13</td></tr><tr><td>Czech Republic</td><td>travel</td><td>12</td></tr><tr><td>Denmark</td><td>education</td><td>9</td></tr><tr><td>Djibouti</td><td>diy-and-crafts</td><td>8</td></tr><tr><td>Djibouti</td><td>mens-fashion</td><td>8</td></tr><tr><td>Dominica</td><td>finance</td><td>4</td></tr><tr><td>Dominica</td><td>education</td><td>4</td></tr><tr><td>Dominica</td><td>event-planning</td><td>4</td></tr><tr><td>Dominican Republic</td><td>education</td><td>12</td></tr><tr><td>Ecuador</td><td>travel</td><td>14</td></tr><tr><td>Egypt</td><td>vehicles</td><td>14</td></tr><tr><td>El Salvador</td><td>travel</td><td>7</td></tr><tr><td>El Salvador</td><td>quotes</td><td>7</td></tr><tr><td>Equatorial Guinea</td><td>travel</td><td>5</td></tr><tr><td>Equatorial Guinea</td><td>beauty</td><td>5</td></tr><tr><td>Equatorial Guinea</td><td>quotes</td><td>5</td></tr><tr><td>Eritrea</td><td>christmas</td><td>5</td></tr><tr><td>Eritrea</td><td>beauty</td><td>5</td></tr><tr><td>Estonia</td><td>christmas</td><td>10</td></tr><tr><td>Ethiopia</td><td>art</td><td>10</td></tr><tr><td>Falkland Islands (Malvinas)</td><td>christmas</td><td>10</td></tr><tr><td>Faroe Islands</td><td>event-planning</td><td>9</td></tr><tr><td>Fiji</td><td>education</td><td>7</td></tr><tr><td>Fiji</td><td>vehicles</td><td>7</td></tr><tr><td>Finland</td><td>finance</td><td>8</td></tr><tr><td>France</td><td>beauty</td><td>7</td></tr><tr><td>French Guiana</td><td>finance</td><td>7</td></tr><tr><td>French Polynesia</td><td>event-planning</td><td>14</td></tr><tr><td>French Southern Territories</td><td>quotes</td><td>4</td></tr><tr><td>Gabon</td><td>diy-and-crafts</td><td>6</td></tr><tr><td>Gabon</td><td>beauty</td><td>6</td></tr><tr><td>Gambia</td><td>diy-and-crafts</td><td>6</td></tr><tr><td>Georgia</td><td>education</td><td>8</td></tr><tr><td>Germany</td><td>event-planning</td><td>12</td></tr><tr><td>Ghana</td><td>beauty</td><td>4</td></tr><tr><td>Ghana</td><td>quotes</td><td>4</td></tr><tr><td>Gibraltar</td><td>art</td><td>5</td></tr><tr><td>Gibraltar</td><td>mens-fashion</td><td>5</td></tr><tr><td>Greece</td><td>mens-fashion</td><td>10</td></tr><tr><td>Greenland</td><td>vehicles</td><td>6</td></tr><tr><td>Greenland</td><td>travel</td><td>6</td></tr><tr><td>Greenland</td><td>education</td><td>6</td></tr><tr><td>Grenada</td><td>quotes</td><td>12</td></tr><tr><td>Guadeloupe</td><td>christmas</td><td>9</td></tr><tr><td>Guam</td><td>beauty</td><td>5</td></tr><tr><td>Guam</td><td>vehicles</td><td>5</td></tr><tr><td>Guam</td><td>quotes</td><td>5</td></tr><tr><td>Guatemala</td><td>diy-and-crafts</td><td>7</td></tr><tr><td>Guernsey</td><td>tattoos</td><td>5</td></tr><tr><td>Guinea</td><td>finance</td><td>5</td></tr><tr><td>Guinea-Bissau</td><td>travel</td><td>8</td></tr><tr><td>Guyana</td><td>vehicles</td><td>5</td></tr><tr><td>Haiti</td><td>christmas</td><td>8</td></tr><tr><td>Heard Island and McDonald Islands</td><td>vehicles</td><td>9</td></tr><tr><td>Holy See (Vatican City State)</td><td>event-planning</td><td>5</td></tr><tr><td>Holy See (Vatican City State)</td><td>tattoos</td><td>5</td></tr><tr><td>Honduras</td><td>event-planning</td><td>6</td></tr><tr><td>Honduras</td><td>travel</td><td>6</td></tr><tr><td>Hong Kong</td><td>education</td><td>4</td></tr><tr><td>Hungary</td><td>vehicles</td><td>6</td></tr><tr><td>Iceland</td><td>beauty</td><td>4</td></tr><tr><td>India</td><td>art</td><td>8</td></tr><tr><td>Indonesia</td><td>finance</td><td>8</td></tr><tr><td>Iran</td><td>christmas</td><td>5</td></tr><tr><td>Iraq</td><td>christmas</td><td>9</td></tr><tr><td>Ireland</td><td>mens-fashion</td><td>4</td></tr><tr><td>Isle of Man</td><td>art</td><td>6</td></tr><tr><td>Israel</td><td>education</td><td>7</td></tr><tr><td>Italy</td><td>vehicles</td><td>8</td></tr><tr><td>Jamaica</td><td>education</td><td>9</td></tr><tr><td>Japan</td><td>art</td><td>6</td></tr><tr><td>Jersey</td><td>quotes</td><td>5</td></tr><tr><td>Jordan</td><td>home-decor</td><td>5</td></tr><tr><td>Jordan</td><td>mens-fashion</td><td>5</td></tr><tr><td>Kazakhstan</td><td>christmas</td><td>7</td></tr><tr><td>Kenya</td><td>mens-fashion</td><td>7</td></tr><tr><td>Kiribati</td><td>christmas</td><td>5</td></tr><tr><td>Korea</td><td>art</td><td>9</td></tr><tr><td>Kuwait</td><td>travel</td><td>11</td></tr><tr><td>Kyrgyz Republic</td><td>christmas</td><td>8</td></tr><tr><td>Lao People's Democratic Republic</td><td>beauty</td><td>6</td></tr><tr><td>Latvia</td><td>travel</td><td>5</td></tr><tr><td>Lebanon</td><td>vehicles</td><td>8</td></tr><tr><td>Lesotho</td><td>art</td><td>6</td></tr><tr><td>Liberia</td><td>travel</td><td>4</td></tr><tr><td>Libyan Arab Jamahiriya</td><td>vehicles</td><td>5</td></tr><tr><td>Liechtenstein</td><td>diy-and-crafts</td><td>6</td></tr><tr><td>Lithuania</td><td>art</td><td>3</td></tr><tr><td>Lithuania</td><td>diy-and-crafts</td><td>3</td></tr><tr><td>Lithuania</td><td>tattoos</td><td>3</td></tr><tr><td>Luxembourg</td><td>event-planning</td><td>3</td></tr><tr><td>Luxembourg</td><td>education</td><td>3</td></tr><tr><td>Macao</td><td>vehicles</td><td>9</td></tr><tr><td>Macedonia</td><td>vehicles</td><td>4</td></tr><tr><td>Madagascar</td><td>mens-fashion</td><td>7</td></tr><tr><td>Malawi</td><td>vehicles</td><td>6</td></tr><tr><td>Malawi</td><td>christmas</td><td>6</td></tr><tr><td>Malawi</td><td>mens-fashion</td><td>6</td></tr><tr><td>Malaysia</td><td>diy-and-crafts</td><td>4</td></tr><tr><td>Maldives</td><td>event-planning</td><td>4</td></tr><tr><td>Mali</td><td>christmas</td><td>5</td></tr><tr><td>Malta</td><td>event-planning</td><td>6</td></tr><tr><td>Marshall Islands</td><td>event-planning</td><td>5</td></tr><tr><td>Marshall Islands</td><td>travel</td><td>5</td></tr><tr><td>Martinique</td><td>art</td><td>6</td></tr><tr><td>Mauritania</td><td>christmas</td><td>4</td></tr><tr><td>Mauritius</td><td>home-decor</td><td>3</td></tr><tr><td>Mayotte</td><td>education</td><td>4</td></tr><tr><td>Mayotte</td><td>christmas</td><td>4</td></tr><tr><td>Mexico</td><td>vehicles</td><td>4</td></tr><tr><td>Mexico</td><td>home-decor</td><td>4</td></tr><tr><td>Micronesia</td><td>event-planning</td><td>4</td></tr><tr><td>Micronesia</td><td>mens-fashion</td><td>4</td></tr><tr><td>Moldova</td><td>beauty</td><td>6</td></tr><tr><td>Monaco</td><td>art</td><td>5</td></tr><tr><td>Monaco</td><td>mens-fashion</td><td>5</td></tr><tr><td>Mongolia</td><td>travel</td><td>5</td></tr><tr><td>Mongolia</td><td>vehicles</td><td>5</td></tr><tr><td>Mongolia</td><td>mens-fashion</td><td>5</td></tr><tr><td>Montenegro</td><td>mens-fashion</td><td>4</td></tr><tr><td>Montserrat</td><td>vehicles</td><td>8</td></tr><tr><td>Morocco</td><td>education</td><td>5</td></tr><tr><td>Morocco</td><td>vehicles</td><td>5</td></tr><tr><td>Mozambique</td><td>home-decor</td><td>5</td></tr><tr><td>Myanmar</td><td>christmas</td><td>8</td></tr><tr><td>Namibia</td><td>vehicles</td><td>5</td></tr><tr><td>Nauru</td><td>mens-fashion</td><td>6</td></tr><tr><td>Nepal</td><td>christmas</td><td>5</td></tr><tr><td>Nepal</td><td>finance</td><td>5</td></tr><tr><td>Netherlands</td><td>home-decor</td><td>6</td></tr><tr><td>Netherlands Antilles</td><td>art</td><td>7</td></tr><tr><td>New Caledonia</td><td>beauty</td><td>4</td></tr><tr><td>New Caledonia</td><td>mens-fashion</td><td>4</td></tr><tr><td>New Zealand</td><td>mens-fashion</td><td>4</td></tr><tr><td>Nicaragua</td><td>vehicles</td><td>5</td></tr><tr><td>Nicaragua</td><td>christmas</td><td>5</td></tr><tr><td>Niger</td><td>beauty</td><td>5</td></tr><tr><td>Nigeria</td><td>mens-fashion</td><td>7</td></tr><tr><td>Niue</td><td>tattoos</td><td>4</td></tr><tr><td>Norfolk Island</td><td>beauty</td><td>5</td></tr><tr><td>Northern Mariana Islands</td><td>education</td><td>2</td></tr><tr><td>Northern Mariana Islands</td><td>art</td><td>2</td></tr><tr><td>Northern Mariana Islands</td><td>vehicles</td><td>2</td></tr><tr><td>Norway</td><td>vehicles</td><td>3</td></tr><tr><td>Oman</td><td>finance</td><td>5</td></tr><tr><td>Pakistan</td><td>education</td><td>3</td></tr><tr><td>Pakistan</td><td>vehicles</td><td>3</td></tr><tr><td>Palau</td><td>vehicles</td><td>4</td></tr><tr><td>Palau</td><td>event-planning</td><td>4</td></tr><tr><td>Palestinian Territory</td><td>christmas</td><td>7</td></tr><tr><td>Panama</td><td>vehicles</td><td>5</td></tr><tr><td>Papua New Guinea</td><td>travel</td><td>6</td></tr><tr><td>Paraguay</td><td>vehicles</td><td>5</td></tr><tr><td>Paraguay</td><td>home-decor</td><td>5</td></tr><tr><td>Peru</td><td>beauty</td><td>4</td></tr><tr><td>Philippines</td><td>mens-fashion</td><td>4</td></tr><tr><td>Pitcairn Islands</td><td>finance</td><td>6</td></tr><tr><td>Poland</td><td>travel</td><td>3</td></tr><tr><td>Portugal</td><td>christmas</td><td>3</td></tr><tr><td>Portugal</td><td>art</td><td>3</td></tr><tr><td>Portugal</td><td>travel</td><td>3</td></tr><tr><td>Portugal</td><td>education</td><td>3</td></tr><tr><td>Puerto Rico</td><td>event-planning</td><td>4</td></tr><tr><td>Qatar</td><td>education</td><td>3</td></tr><tr><td>Reunion</td><td>home-decor</td><td>4</td></tr><tr><td>Romania</td><td>travel</td><td>2</td></tr><tr><td>Romania</td><td>mens-fashion</td><td>2</td></tr><tr><td>Romania</td><td>quotes</td><td>2</td></tr><tr><td>Russian Federation</td><td>christmas</td><td>6</td></tr><tr><td>Rwanda</td><td>diy-and-crafts</td><td>2</td></tr><tr><td>Rwanda</td><td>mens-fashion</td><td>2</td></tr><tr><td>Saint Barthelemy</td><td>education</td><td>2</td></tr><tr><td>Saint Barthelemy</td><td>vehicles</td><td>2</td></tr><tr><td>Saint Barthelemy</td><td>christmas</td><td>2</td></tr><tr><td>Saint Barthelemy</td><td>beauty</td><td>2</td></tr><tr><td>Saint Barthelemy</td><td>home-decor</td><td>2</td></tr><tr><td>Saint Barthelemy</td><td>mens-fashion</td><td>2</td></tr><tr><td>Saint Barthelemy</td><td>quotes</td><td>2</td></tr><tr><td>Saint Barthelemy</td><td>travel</td><td>2</td></tr><tr><td>Saint Helena</td><td>beauty</td><td>3</td></tr><tr><td>Saint Kitts and Nevis</td><td>vehicles</td><td>7</td></tr><tr><td>Saint Lucia</td><td>vehicles</td><td>3</td></tr><tr><td>Saint Lucia</td><td>tattoos</td><td>3</td></tr><tr><td>Saint Martin</td><td>quotes</td><td>4</td></tr><tr><td>Saint Pierre and Miquelon</td><td>mens-fashion</td><td>6</td></tr><tr><td>Saint Vincent and the Grenadines</td><td>christmas</td><td>4</td></tr><tr><td>Samoa</td><td>vehicles</td><td>5</td></tr><tr><td>San Marino</td><td>quotes</td><td>3</td></tr><tr><td>San Marino</td><td>mens-fashion</td><td>3</td></tr><tr><td>Sao Tome and Principe</td><td>finance</td><td>4</td></tr><tr><td>Saudi Arabia</td><td>mens-fashion</td><td>7</td></tr><tr><td>Senegal</td><td>beauty</td><td>2</td></tr><tr><td>Senegal</td><td>education</td><td>2</td></tr><tr><td>Senegal</td><td>vehicles</td><td>2</td></tr><tr><td>Senegal</td><td>travel</td><td>2</td></tr><tr><td>Senegal</td><td>diy-and-crafts</td><td>2</td></tr><tr><td>Senegal</td><td>mens-fashion</td><td>2</td></tr><tr><td>Serbia</td><td>diy-and-crafts</td><td>2</td></tr><tr><td>Serbia</td><td>travel</td><td>2</td></tr><tr><td>Seychelles</td><td>beauty</td><td>4</td></tr><tr><td>Sierra Leone</td><td>home-decor</td><td>3</td></tr><tr><td>Singapore</td><td>art</td><td>4</td></tr><tr><td>Slovakia (Slovak Republic)</td><td>vehicles</td><td>4</td></tr><tr><td>Slovenia</td><td>education</td><td>3</td></tr><tr><td>Solomon Islands</td><td>vehicles</td><td>9</td></tr><tr><td>Somalia</td><td>quotes</td><td>4</td></tr><tr><td>South Africa</td><td>beauty</td><td>3</td></tr><tr><td>South Georgia and the South Sandwich Islands</td><td>event-planning</td><td>4</td></tr><tr><td>Spain</td><td>beauty</td><td>3</td></tr><tr><td>Sri Lanka</td><td>mens-fashion</td><td>6</td></tr><tr><td>Sudan</td><td>art</td><td>3</td></tr><tr><td>Sudan</td><td>mens-fashion</td><td>3</td></tr><tr><td>Suriname</td><td>home-decor</td><td>2</td></tr><tr><td>Suriname</td><td>quotes</td><td>2</td></tr><tr><td>Svalbard & Jan Mayen Islands</td><td>finance</td><td>3</td></tr><tr><td>Svalbard & Jan Mayen Islands</td><td>mens-fashion</td><td>3</td></tr><tr><td>Swaziland</td><td>christmas</td><td>4</td></tr><tr><td>Sweden</td><td>finance</td><td>3</td></tr><tr><td>Sweden</td><td>event-planning</td><td>3</td></tr><tr><td>Sweden</td><td>travel</td><td>3</td></tr><tr><td>Sweden</td><td>mens-fashion</td><td>3</td></tr><tr><td>Switzerland</td><td>art</td><td>4</td></tr><tr><td>Switzerland</td><td>vehicles</td><td>4</td></tr><tr><td>Switzerland</td><td>quotes</td><td>4</td></tr><tr><td>Syrian Arab Republic</td><td>home-decor</td><td>4</td></tr><tr><td>Taiwan</td><td>vehicles</td><td>7</td></tr><tr><td>Tajikistan</td><td>event-planning</td><td>4</td></tr><tr><td>Tanzania</td><td>finance</td><td>3</td></tr><tr><td>Tanzania</td><td>mens-fashion</td><td>3</td></tr><tr><td>Thailand</td><td>home-decor</td><td>4</td></tr><tr><td>Timor-Leste</td><td>travel</td><td>6</td></tr><tr><td>Togo</td><td>travel</td><td>3</td></tr><tr><td>Tokelau</td><td>art</td><td>3</td></tr><tr><td>Tonga</td><td>finance</td><td>4</td></tr><tr><td>Trinidad and Tobago</td><td>christmas</td><td>4</td></tr><tr><td>Tunisia</td><td>education</td><td>3</td></tr><tr><td>Tunisia</td><td>quotes</td><td>3</td></tr><tr><td>Tunisia</td><td>home-decor</td><td>3</td></tr><tr><td>Turkey</td><td>beauty</td><td>3</td></tr><tr><td>Turkmenistan</td><td>event-planning</td><td>4</td></tr><tr><td>Turks and Caicos Islands</td><td>event-planning</td><td>5</td></tr><tr><td>Tuvalu</td><td>event-planning</td><td>3</td></tr><tr><td>Uganda</td><td>beauty</td><td>4</td></tr><tr><td>Uganda</td><td>event-planning</td><td>4</td></tr><tr><td>Uganda</td><td>mens-fashion</td><td>4</td></tr><tr><td>Ukraine</td><td>beauty</td><td>4</td></tr><tr><td>United Arab Emirates</td><td>vehicles</td><td>2</td></tr><tr><td>United Kingdom</td><td>christmas</td><td>4</td></tr><tr><td>United Kingdom</td><td>event-planning</td><td>4</td></tr><tr><td>United Kingdom</td><td>home-decor</td><td>4</td></tr><tr><td>United States Minor Outlying Islands</td><td>vehicles</td><td>3</td></tr><tr><td>United States Virgin Islands</td><td>quotes</td><td>4</td></tr><tr><td>United States of America</td><td>travel</td><td>3</td></tr><tr><td>United States of America</td><td>mens-fashion</td><td>3</td></tr><tr><td>Uruguay</td><td>vehicles</td><td>3</td></tr><tr><td>Uruguay</td><td>travel</td><td>3</td></tr><tr><td>Uzbekistan</td><td>vehicles</td><td>3</td></tr><tr><td>Vanuatu</td><td>quotes</td><td>3</td></tr><tr><td>Venezuela</td><td>finance</td><td>3</td></tr><tr><td>Venezuela</td><td>education</td><td>3</td></tr><tr><td>Vietnam</td><td>diy-and-crafts</td><td>2</td></tr><tr><td>Vietnam</td><td>finance</td><td>2</td></tr><tr><td>Vietnam</td><td>quotes</td><td>2</td></tr><tr><td>Vietnam</td><td>home-decor</td><td>2</td></tr><tr><td>Wallis and Futuna</td><td>travel</td><td>6</td></tr><tr><td>Western Sahara</td><td>vehicles</td><td>5</td></tr><tr><td>Yemen</td><td>christmas</td><td>5</td></tr><tr><td>Zambia</td><td>mens-fashion</td><td>4</td></tr><tr><td>Zimbabwe</td><td>christmas</td><td>3</td></tr></tbody></table></div>"
      ]
     },
     "metadata": {
      "application/vnd.databricks.v1+output": {
       "addedWidgets": {},
       "aggData": [],
       "aggError": "",
       "aggOverflow": false,
       "aggSchema": [],
       "aggSeriesLimitReached": false,
       "aggType": "",
       "arguments": {},
       "columnCustomDisplayInfos": {},
       "data": [
        [
         "Afghanistan",
         "education",
         94
        ],
        [
         "Albania",
         "art",
         193
        ],
        [
         "Algeria",
         "quotes",
         256
        ],
        [
         "American Samoa",
         "tattoos",
         98
        ],
        [
         "Andorra",
         "tattoos",
         77
        ],
        [
         "Angola",
         "education",
         30
        ],
        [
         "Anguilla",
         "christmas",
         25
        ],
        [
         "Antarctica (the territory South of 60 deg S)",
         "christmas",
         36
        ],
        [
         "Antigua and Barbuda",
         "travel",
         29
        ],
        [
         "Argentina",
         "tattoos",
         72
        ],
        [
         "Armenia",
         "vehicles",
         28
        ],
        [
         "Aruba",
         "christmas",
         56
        ],
        [
         "Australia",
         "christmas",
         17
        ],
        [
         "Austria",
         "tattoos",
         30
        ],
        [
         "Azerbaijan",
         "finance",
         35
        ],
        [
         "Bahamas",
         "event-planning",
         41
        ],
        [
         "Bahrain",
         "finance",
         12
        ],
        [
         "Bangladesh",
         "christmas",
         36
        ],
        [
         "Barbados",
         "art",
         24
        ],
        [
         "Belarus",
         "travel",
         19
        ],
        [
         "Belgium",
         "diy-and-crafts",
         14
        ],
        [
         "Belize",
         "diy-and-crafts",
         22
        ],
        [
         "Benin",
         "tattoos",
         20
        ],
        [
         "Bermuda",
         "tattoos",
         22
        ],
        [
         "Bhutan",
         "event-planning",
         10
        ],
        [
         "Bhutan",
         "christmas",
         10
        ],
        [
         "Bolivia",
         "home-decor",
         27
        ],
        [
         "Bosnia and Herzegovina",
         "tattoos",
         23
        ],
        [
         "Botswana",
         "finance",
         17
        ],
        [
         "Bouvet Island (Bouvetoya)",
         "travel",
         26
        ],
        [
         "Brazil",
         "home-decor",
         15
        ],
        [
         "British Indian Ocean Territory (Chagos Archipelago)",
         "mens-fashion",
         15
        ],
        [
         "British Virgin Islands",
         "christmas",
         20
        ],
        [
         "Brunei Darussalam",
         "event-planning",
         9
        ],
        [
         "Bulgaria",
         "education",
         17
        ],
        [
         "Burkina Faso",
         "vehicles",
         14
        ],
        [
         "Burkina Faso",
         "quotes",
         14
        ],
        [
         "Burundi",
         "beauty",
         13
        ],
        [
         "Cambodia",
         "beauty",
         8
        ],
        [
         "Cameroon",
         "art",
         13
        ],
        [
         "Canada",
         "event-planning",
         10
        ],
        [
         "Cape Verde",
         "travel",
         11
        ],
        [
         "Cayman Islands",
         "diy-and-crafts",
         8
        ],
        [
         "Central African Republic",
         "education",
         12
        ],
        [
         "Chad",
         "diy-and-crafts",
         16
        ],
        [
         "Chile",
         "mens-fashion",
         11
        ],
        [
         "China",
         "vehicles",
         5
        ],
        [
         "Christmas Island",
         "travel",
         18
        ],
        [
         "Cocos (Keeling) Islands",
         "finance",
         9
        ],
        [
         "Colombia",
         "christmas",
         12
        ],
        [
         "Comoros",
         "diy-and-crafts",
         15
        ],
        [
         "Congo",
         "travel",
         17
        ],
        [
         "Cook Islands",
         "diy-and-crafts",
         9
        ],
        [
         "Costa Rica",
         "home-decor",
         16
        ],
        [
         "Cote d'Ivoire",
         "beauty",
         10
        ],
        [
         "Croatia",
         "finance",
         11
        ],
        [
         "Cuba",
         "tattoos",
         11
        ],
        [
         "Cyprus",
         "vehicles",
         13
        ],
        [
         "Czech Republic",
         "travel",
         12
        ],
        [
         "Denmark",
         "education",
         9
        ],
        [
         "Djibouti",
         "diy-and-crafts",
         8
        ],
        [
         "Djibouti",
         "mens-fashion",
         8
        ],
        [
         "Dominica",
         "finance",
         4
        ],
        [
         "Dominica",
         "education",
         4
        ],
        [
         "Dominica",
         "event-planning",
         4
        ],
        [
         "Dominican Republic",
         "education",
         12
        ],
        [
         "Ecuador",
         "travel",
         14
        ],
        [
         "Egypt",
         "vehicles",
         14
        ],
        [
         "El Salvador",
         "travel",
         7
        ],
        [
         "El Salvador",
         "quotes",
         7
        ],
        [
         "Equatorial Guinea",
         "travel",
         5
        ],
        [
         "Equatorial Guinea",
         "beauty",
         5
        ],
        [
         "Equatorial Guinea",
         "quotes",
         5
        ],
        [
         "Eritrea",
         "christmas",
         5
        ],
        [
         "Eritrea",
         "beauty",
         5
        ],
        [
         "Estonia",
         "christmas",
         10
        ],
        [
         "Ethiopia",
         "art",
         10
        ],
        [
         "Falkland Islands (Malvinas)",
         "christmas",
         10
        ],
        [
         "Faroe Islands",
         "event-planning",
         9
        ],
        [
         "Fiji",
         "education",
         7
        ],
        [
         "Fiji",
         "vehicles",
         7
        ],
        [
         "Finland",
         "finance",
         8
        ],
        [
         "France",
         "beauty",
         7
        ],
        [
         "French Guiana",
         "finance",
         7
        ],
        [
         "French Polynesia",
         "event-planning",
         14
        ],
        [
         "French Southern Territories",
         "quotes",
         4
        ],
        [
         "Gabon",
         "diy-and-crafts",
         6
        ],
        [
         "Gabon",
         "beauty",
         6
        ],
        [
         "Gambia",
         "diy-and-crafts",
         6
        ],
        [
         "Georgia",
         "education",
         8
        ],
        [
         "Germany",
         "event-planning",
         12
        ],
        [
         "Ghana",
         "beauty",
         4
        ],
        [
         "Ghana",
         "quotes",
         4
        ],
        [
         "Gibraltar",
         "art",
         5
        ],
        [
         "Gibraltar",
         "mens-fashion",
         5
        ],
        [
         "Greece",
         "mens-fashion",
         10
        ],
        [
         "Greenland",
         "vehicles",
         6
        ],
        [
         "Greenland",
         "travel",
         6
        ],
        [
         "Greenland",
         "education",
         6
        ],
        [
         "Grenada",
         "quotes",
         12
        ],
        [
         "Guadeloupe",
         "christmas",
         9
        ],
        [
         "Guam",
         "beauty",
         5
        ],
        [
         "Guam",
         "vehicles",
         5
        ],
        [
         "Guam",
         "quotes",
         5
        ],
        [
         "Guatemala",
         "diy-and-crafts",
         7
        ],
        [
         "Guernsey",
         "tattoos",
         5
        ],
        [
         "Guinea",
         "finance",
         5
        ],
        [
         "Guinea-Bissau",
         "travel",
         8
        ],
        [
         "Guyana",
         "vehicles",
         5
        ],
        [
         "Haiti",
         "christmas",
         8
        ],
        [
         "Heard Island and McDonald Islands",
         "vehicles",
         9
        ],
        [
         "Holy See (Vatican City State)",
         "event-planning",
         5
        ],
        [
         "Holy See (Vatican City State)",
         "tattoos",
         5
        ],
        [
         "Honduras",
         "event-planning",
         6
        ],
        [
         "Honduras",
         "travel",
         6
        ],
        [
         "Hong Kong",
         "education",
         4
        ],
        [
         "Hungary",
         "vehicles",
         6
        ],
        [
         "Iceland",
         "beauty",
         4
        ],
        [
         "India",
         "art",
         8
        ],
        [
         "Indonesia",
         "finance",
         8
        ],
        [
         "Iran",
         "christmas",
         5
        ],
        [
         "Iraq",
         "christmas",
         9
        ],
        [
         "Ireland",
         "mens-fashion",
         4
        ],
        [
         "Isle of Man",
         "art",
         6
        ],
        [
         "Israel",
         "education",
         7
        ],
        [
         "Italy",
         "vehicles",
         8
        ],
        [
         "Jamaica",
         "education",
         9
        ],
        [
         "Japan",
         "art",
         6
        ],
        [
         "Jersey",
         "quotes",
         5
        ],
        [
         "Jordan",
         "home-decor",
         5
        ],
        [
         "Jordan",
         "mens-fashion",
         5
        ],
        [
         "Kazakhstan",
         "christmas",
         7
        ],
        [
         "Kenya",
         "mens-fashion",
         7
        ],
        [
         "Kiribati",
         "christmas",
         5
        ],
        [
         "Korea",
         "art",
         9
        ],
        [
         "Kuwait",
         "travel",
         11
        ],
        [
         "Kyrgyz Republic",
         "christmas",
         8
        ],
        [
         "Lao People's Democratic Republic",
         "beauty",
         6
        ],
        [
         "Latvia",
         "travel",
         5
        ],
        [
         "Lebanon",
         "vehicles",
         8
        ],
        [
         "Lesotho",
         "art",
         6
        ],
        [
         "Liberia",
         "travel",
         4
        ],
        [
         "Libyan Arab Jamahiriya",
         "vehicles",
         5
        ],
        [
         "Liechtenstein",
         "diy-and-crafts",
         6
        ],
        [
         "Lithuania",
         "art",
         3
        ],
        [
         "Lithuania",
         "diy-and-crafts",
         3
        ],
        [
         "Lithuania",
         "tattoos",
         3
        ],
        [
         "Luxembourg",
         "event-planning",
         3
        ],
        [
         "Luxembourg",
         "education",
         3
        ],
        [
         "Macao",
         "vehicles",
         9
        ],
        [
         "Macedonia",
         "vehicles",
         4
        ],
        [
         "Madagascar",
         "mens-fashion",
         7
        ],
        [
         "Malawi",
         "vehicles",
         6
        ],
        [
         "Malawi",
         "christmas",
         6
        ],
        [
         "Malawi",
         "mens-fashion",
         6
        ],
        [
         "Malaysia",
         "diy-and-crafts",
         4
        ],
        [
         "Maldives",
         "event-planning",
         4
        ],
        [
         "Mali",
         "christmas",
         5
        ],
        [
         "Malta",
         "event-planning",
         6
        ],
        [
         "Marshall Islands",
         "event-planning",
         5
        ],
        [
         "Marshall Islands",
         "travel",
         5
        ],
        [
         "Martinique",
         "art",
         6
        ],
        [
         "Mauritania",
         "christmas",
         4
        ],
        [
         "Mauritius",
         "home-decor",
         3
        ],
        [
         "Mayotte",
         "education",
         4
        ],
        [
         "Mayotte",
         "christmas",
         4
        ],
        [
         "Mexico",
         "vehicles",
         4
        ],
        [
         "Mexico",
         "home-decor",
         4
        ],
        [
         "Micronesia",
         "event-planning",
         4
        ],
        [
         "Micronesia",
         "mens-fashion",
         4
        ],
        [
         "Moldova",
         "beauty",
         6
        ],
        [
         "Monaco",
         "art",
         5
        ],
        [
         "Monaco",
         "mens-fashion",
         5
        ],
        [
         "Mongolia",
         "travel",
         5
        ],
        [
         "Mongolia",
         "vehicles",
         5
        ],
        [
         "Mongolia",
         "mens-fashion",
         5
        ],
        [
         "Montenegro",
         "mens-fashion",
         4
        ],
        [
         "Montserrat",
         "vehicles",
         8
        ],
        [
         "Morocco",
         "education",
         5
        ],
        [
         "Morocco",
         "vehicles",
         5
        ],
        [
         "Mozambique",
         "home-decor",
         5
        ],
        [
         "Myanmar",
         "christmas",
         8
        ],
        [
         "Namibia",
         "vehicles",
         5
        ],
        [
         "Nauru",
         "mens-fashion",
         6
        ],
        [
         "Nepal",
         "christmas",
         5
        ],
        [
         "Nepal",
         "finance",
         5
        ],
        [
         "Netherlands",
         "home-decor",
         6
        ],
        [
         "Netherlands Antilles",
         "art",
         7
        ],
        [
         "New Caledonia",
         "beauty",
         4
        ],
        [
         "New Caledonia",
         "mens-fashion",
         4
        ],
        [
         "New Zealand",
         "mens-fashion",
         4
        ],
        [
         "Nicaragua",
         "vehicles",
         5
        ],
        [
         "Nicaragua",
         "christmas",
         5
        ],
        [
         "Niger",
         "beauty",
         5
        ],
        [
         "Nigeria",
         "mens-fashion",
         7
        ],
        [
         "Niue",
         "tattoos",
         4
        ],
        [
         "Norfolk Island",
         "beauty",
         5
        ],
        [
         "Northern Mariana Islands",
         "education",
         2
        ],
        [
         "Northern Mariana Islands",
         "art",
         2
        ],
        [
         "Northern Mariana Islands",
         "vehicles",
         2
        ],
        [
         "Norway",
         "vehicles",
         3
        ],
        [
         "Oman",
         "finance",
         5
        ],
        [
         "Pakistan",
         "education",
         3
        ],
        [
         "Pakistan",
         "vehicles",
         3
        ],
        [
         "Palau",
         "vehicles",
         4
        ],
        [
         "Palau",
         "event-planning",
         4
        ],
        [
         "Palestinian Territory",
         "christmas",
         7
        ],
        [
         "Panama",
         "vehicles",
         5
        ],
        [
         "Papua New Guinea",
         "travel",
         6
        ],
        [
         "Paraguay",
         "vehicles",
         5
        ],
        [
         "Paraguay",
         "home-decor",
         5
        ],
        [
         "Peru",
         "beauty",
         4
        ],
        [
         "Philippines",
         "mens-fashion",
         4
        ],
        [
         "Pitcairn Islands",
         "finance",
         6
        ],
        [
         "Poland",
         "travel",
         3
        ],
        [
         "Portugal",
         "christmas",
         3
        ],
        [
         "Portugal",
         "art",
         3
        ],
        [
         "Portugal",
         "travel",
         3
        ],
        [
         "Portugal",
         "education",
         3
        ],
        [
         "Puerto Rico",
         "event-planning",
         4
        ],
        [
         "Qatar",
         "education",
         3
        ],
        [
         "Reunion",
         "home-decor",
         4
        ],
        [
         "Romania",
         "travel",
         2
        ],
        [
         "Romania",
         "mens-fashion",
         2
        ],
        [
         "Romania",
         "quotes",
         2
        ],
        [
         "Russian Federation",
         "christmas",
         6
        ],
        [
         "Rwanda",
         "diy-and-crafts",
         2
        ],
        [
         "Rwanda",
         "mens-fashion",
         2
        ],
        [
         "Saint Barthelemy",
         "education",
         2
        ],
        [
         "Saint Barthelemy",
         "vehicles",
         2
        ],
        [
         "Saint Barthelemy",
         "christmas",
         2
        ],
        [
         "Saint Barthelemy",
         "beauty",
         2
        ],
        [
         "Saint Barthelemy",
         "home-decor",
         2
        ],
        [
         "Saint Barthelemy",
         "mens-fashion",
         2
        ],
        [
         "Saint Barthelemy",
         "quotes",
         2
        ],
        [
         "Saint Barthelemy",
         "travel",
         2
        ],
        [
         "Saint Helena",
         "beauty",
         3
        ],
        [
         "Saint Kitts and Nevis",
         "vehicles",
         7
        ],
        [
         "Saint Lucia",
         "vehicles",
         3
        ],
        [
         "Saint Lucia",
         "tattoos",
         3
        ],
        [
         "Saint Martin",
         "quotes",
         4
        ],
        [
         "Saint Pierre and Miquelon",
         "mens-fashion",
         6
        ],
        [
         "Saint Vincent and the Grenadines",
         "christmas",
         4
        ],
        [
         "Samoa",
         "vehicles",
         5
        ],
        [
         "San Marino",
         "quotes",
         3
        ],
        [
         "San Marino",
         "mens-fashion",
         3
        ],
        [
         "Sao Tome and Principe",
         "finance",
         4
        ],
        [
         "Saudi Arabia",
         "mens-fashion",
         7
        ],
        [
         "Senegal",
         "beauty",
         2
        ],
        [
         "Senegal",
         "education",
         2
        ],
        [
         "Senegal",
         "vehicles",
         2
        ],
        [
         "Senegal",
         "travel",
         2
        ],
        [
         "Senegal",
         "diy-and-crafts",
         2
        ],
        [
         "Senegal",
         "mens-fashion",
         2
        ],
        [
         "Serbia",
         "diy-and-crafts",
         2
        ],
        [
         "Serbia",
         "travel",
         2
        ],
        [
         "Seychelles",
         "beauty",
         4
        ],
        [
         "Sierra Leone",
         "home-decor",
         3
        ],
        [
         "Singapore",
         "art",
         4
        ],
        [
         "Slovakia (Slovak Republic)",
         "vehicles",
         4
        ],
        [
         "Slovenia",
         "education",
         3
        ],
        [
         "Solomon Islands",
         "vehicles",
         9
        ],
        [
         "Somalia",
         "quotes",
         4
        ],
        [
         "South Africa",
         "beauty",
         3
        ],
        [
         "South Georgia and the South Sandwich Islands",
         "event-planning",
         4
        ],
        [
         "Spain",
         "beauty",
         3
        ],
        [
         "Sri Lanka",
         "mens-fashion",
         6
        ],
        [
         "Sudan",
         "art",
         3
        ],
        [
         "Sudan",
         "mens-fashion",
         3
        ],
        [
         "Suriname",
         "home-decor",
         2
        ],
        [
         "Suriname",
         "quotes",
         2
        ],
        [
         "Svalbard & Jan Mayen Islands",
         "finance",
         3
        ],
        [
         "Svalbard & Jan Mayen Islands",
         "mens-fashion",
         3
        ],
        [
         "Swaziland",
         "christmas",
         4
        ],
        [
         "Sweden",
         "finance",
         3
        ],
        [
         "Sweden",
         "event-planning",
         3
        ],
        [
         "Sweden",
         "travel",
         3
        ],
        [
         "Sweden",
         "mens-fashion",
         3
        ],
        [
         "Switzerland",
         "art",
         4
        ],
        [
         "Switzerland",
         "vehicles",
         4
        ],
        [
         "Switzerland",
         "quotes",
         4
        ],
        [
         "Syrian Arab Republic",
         "home-decor",
         4
        ],
        [
         "Taiwan",
         "vehicles",
         7
        ],
        [
         "Tajikistan",
         "event-planning",
         4
        ],
        [
         "Tanzania",
         "finance",
         3
        ],
        [
         "Tanzania",
         "mens-fashion",
         3
        ],
        [
         "Thailand",
         "home-decor",
         4
        ],
        [
         "Timor-Leste",
         "travel",
         6
        ],
        [
         "Togo",
         "travel",
         3
        ],
        [
         "Tokelau",
         "art",
         3
        ],
        [
         "Tonga",
         "finance",
         4
        ],
        [
         "Trinidad and Tobago",
         "christmas",
         4
        ],
        [
         "Tunisia",
         "education",
         3
        ],
        [
         "Tunisia",
         "quotes",
         3
        ],
        [
         "Tunisia",
         "home-decor",
         3
        ],
        [
         "Turkey",
         "beauty",
         3
        ],
        [
         "Turkmenistan",
         "event-planning",
         4
        ],
        [
         "Turks and Caicos Islands",
         "event-planning",
         5
        ],
        [
         "Tuvalu",
         "event-planning",
         3
        ],
        [
         "Uganda",
         "beauty",
         4
        ],
        [
         "Uganda",
         "event-planning",
         4
        ],
        [
         "Uganda",
         "mens-fashion",
         4
        ],
        [
         "Ukraine",
         "beauty",
         4
        ],
        [
         "United Arab Emirates",
         "vehicles",
         2
        ],
        [
         "United Kingdom",
         "christmas",
         4
        ],
        [
         "United Kingdom",
         "event-planning",
         4
        ],
        [
         "United Kingdom",
         "home-decor",
         4
        ],
        [
         "United States Minor Outlying Islands",
         "vehicles",
         3
        ],
        [
         "United States Virgin Islands",
         "quotes",
         4
        ],
        [
         "United States of America",
         "travel",
         3
        ],
        [
         "United States of America",
         "mens-fashion",
         3
        ],
        [
         "Uruguay",
         "vehicles",
         3
        ],
        [
         "Uruguay",
         "travel",
         3
        ],
        [
         "Uzbekistan",
         "vehicles",
         3
        ],
        [
         "Vanuatu",
         "quotes",
         3
        ],
        [
         "Venezuela",
         "finance",
         3
        ],
        [
         "Venezuela",
         "education",
         3
        ],
        [
         "Vietnam",
         "diy-and-crafts",
         2
        ],
        [
         "Vietnam",
         "finance",
         2
        ],
        [
         "Vietnam",
         "quotes",
         2
        ],
        [
         "Vietnam",
         "home-decor",
         2
        ],
        [
         "Wallis and Futuna",
         "travel",
         6
        ],
        [
         "Western Sahara",
         "vehicles",
         5
        ],
        [
         "Yemen",
         "christmas",
         5
        ],
        [
         "Zambia",
         "mens-fashion",
         4
        ],
        [
         "Zimbabwe",
         "christmas",
         3
        ]
       ],
       "datasetInfos": [],
       "dbfsResultPath": null,
       "isJsonSchema": true,
       "metadata": {},
       "overflow": false,
       "plotOptions": {
        "customPlotOptions": {},
        "displayType": "table",
        "pivotAggregation": null,
        "pivotColumns": null,
        "xColumns": null,
        "yColumns": null
       },
       "removedWidgets": [],
       "schema": [
        {
         "metadata": "{}",
         "name": "country",
         "type": "\"string\""
        },
        {
         "metadata": "{}",
         "name": "category",
         "type": "\"string\""
        },
        {
         "metadata": "{}",
         "name": "category_count",
         "type": "\"long\""
        }
       ],
       "type": "table"
      }
     },
     "output_type": "display_data"
    }
   ],
   "source": [
    "display(popular_category_in_each_country_spark)"
   ]
  },
  {
   "cell_type": "markdown",
   "metadata": {
    "application/vnd.databricks.v1+cell": {
     "cellMetadata": {},
     "inputWidgets": {},
     "nuid": "f9485a86-fa28-4683-99fb-5e2c9a5f7a0d",
     "showTitle": false,
     "title": ""
    }
   },
   "source": [
    "## SQL"
   ]
  },
  {
   "cell_type": "code",
   "execution_count": 0,
   "metadata": {
    "application/vnd.databricks.v1+cell": {
     "cellMetadata": {
      "byteLimit": 2048000,
      "implicitDf": true,
      "rowLimit": 10000
     },
     "inputWidgets": {},
     "nuid": "4f5ec33e-f572-4c2e-b2f6-04a65988429f",
     "showTitle": false,
     "title": ""
    }
   },
   "outputs": [
    {
     "output_type": "display_data",
     "data": {
      "text/html": [
       "<style scoped>\n",
       "  .table-result-container {\n",
       "    max-height: 300px;\n",
       "    overflow: auto;\n",
       "  }\n",
       "  table, th, td {\n",
       "    border: 1px solid black;\n",
       "    border-collapse: collapse;\n",
       "  }\n",
       "  th, td {\n",
       "    padding: 5px;\n",
       "  }\n",
       "  th {\n",
       "    text-align: left;\n",
       "  }\n",
       "</style><div class='table-result-container'><table class='table-result'><thead style='background-color: white'><tr><th>country</th><th>category</th><th>category_count</th></tr></thead><tbody><tr><td>Afghanistan</td><td>education</td><td>94</td></tr><tr><td>Albania</td><td>art</td><td>193</td></tr><tr><td>Algeria</td><td>quotes</td><td>256</td></tr><tr><td>American Samoa</td><td>tattoos</td><td>98</td></tr><tr><td>Andorra</td><td>tattoos</td><td>77</td></tr><tr><td>Angola</td><td>education</td><td>30</td></tr><tr><td>Anguilla</td><td>christmas</td><td>25</td></tr><tr><td>Antarctica (the territory South of 60 deg S)</td><td>christmas</td><td>36</td></tr><tr><td>Antigua and Barbuda</td><td>travel</td><td>29</td></tr><tr><td>Argentina</td><td>tattoos</td><td>72</td></tr><tr><td>Armenia</td><td>vehicles</td><td>28</td></tr><tr><td>Aruba</td><td>christmas</td><td>56</td></tr><tr><td>Australia</td><td>christmas</td><td>17</td></tr><tr><td>Austria</td><td>tattoos</td><td>30</td></tr><tr><td>Azerbaijan</td><td>finance</td><td>35</td></tr><tr><td>Bahamas</td><td>event-planning</td><td>41</td></tr><tr><td>Bahrain</td><td>finance</td><td>12</td></tr><tr><td>Bangladesh</td><td>christmas</td><td>36</td></tr><tr><td>Barbados</td><td>art</td><td>24</td></tr><tr><td>Belarus</td><td>travel</td><td>19</td></tr><tr><td>Belgium</td><td>diy-and-crafts</td><td>14</td></tr><tr><td>Belize</td><td>diy-and-crafts</td><td>22</td></tr><tr><td>Benin</td><td>tattoos</td><td>20</td></tr><tr><td>Bermuda</td><td>tattoos</td><td>22</td></tr><tr><td>Bhutan</td><td>event-planning</td><td>10</td></tr><tr><td>Bhutan</td><td>christmas</td><td>10</td></tr><tr><td>Bolivia</td><td>home-decor</td><td>27</td></tr><tr><td>Bosnia and Herzegovina</td><td>tattoos</td><td>23</td></tr><tr><td>Botswana</td><td>finance</td><td>17</td></tr><tr><td>Bouvet Island (Bouvetoya)</td><td>travel</td><td>26</td></tr><tr><td>Brazil</td><td>home-decor</td><td>15</td></tr><tr><td>British Indian Ocean Territory (Chagos Archipelago)</td><td>mens-fashion</td><td>15</td></tr><tr><td>British Virgin Islands</td><td>christmas</td><td>20</td></tr><tr><td>Brunei Darussalam</td><td>event-planning</td><td>9</td></tr><tr><td>Bulgaria</td><td>education</td><td>17</td></tr><tr><td>Burkina Faso</td><td>vehicles</td><td>14</td></tr><tr><td>Burkina Faso</td><td>quotes</td><td>14</td></tr><tr><td>Burundi</td><td>beauty</td><td>13</td></tr><tr><td>Cambodia</td><td>beauty</td><td>8</td></tr><tr><td>Cameroon</td><td>art</td><td>13</td></tr><tr><td>Canada</td><td>event-planning</td><td>10</td></tr><tr><td>Cape Verde</td><td>travel</td><td>11</td></tr><tr><td>Cayman Islands</td><td>diy-and-crafts</td><td>8</td></tr><tr><td>Central African Republic</td><td>education</td><td>12</td></tr><tr><td>Chad</td><td>diy-and-crafts</td><td>16</td></tr><tr><td>Chile</td><td>mens-fashion</td><td>11</td></tr><tr><td>China</td><td>vehicles</td><td>5</td></tr><tr><td>Christmas Island</td><td>travel</td><td>18</td></tr><tr><td>Cocos (Keeling) Islands</td><td>finance</td><td>9</td></tr><tr><td>Colombia</td><td>christmas</td><td>12</td></tr><tr><td>Comoros</td><td>diy-and-crafts</td><td>15</td></tr><tr><td>Congo</td><td>travel</td><td>17</td></tr><tr><td>Cook Islands</td><td>diy-and-crafts</td><td>9</td></tr><tr><td>Costa Rica</td><td>home-decor</td><td>16</td></tr><tr><td>Cote d'Ivoire</td><td>beauty</td><td>10</td></tr><tr><td>Croatia</td><td>finance</td><td>11</td></tr><tr><td>Cuba</td><td>tattoos</td><td>11</td></tr><tr><td>Cyprus</td><td>vehicles</td><td>13</td></tr><tr><td>Czech Republic</td><td>travel</td><td>12</td></tr><tr><td>Denmark</td><td>education</td><td>9</td></tr><tr><td>Djibouti</td><td>diy-and-crafts</td><td>8</td></tr><tr><td>Djibouti</td><td>mens-fashion</td><td>8</td></tr><tr><td>Dominica</td><td>finance</td><td>4</td></tr><tr><td>Dominica</td><td>education</td><td>4</td></tr><tr><td>Dominica</td><td>event-planning</td><td>4</td></tr><tr><td>Dominican Republic</td><td>education</td><td>12</td></tr><tr><td>Ecuador</td><td>travel</td><td>14</td></tr><tr><td>Egypt</td><td>vehicles</td><td>14</td></tr><tr><td>El Salvador</td><td>travel</td><td>7</td></tr><tr><td>El Salvador</td><td>quotes</td><td>7</td></tr><tr><td>Equatorial Guinea</td><td>travel</td><td>5</td></tr><tr><td>Equatorial Guinea</td><td>beauty</td><td>5</td></tr><tr><td>Equatorial Guinea</td><td>quotes</td><td>5</td></tr><tr><td>Eritrea</td><td>christmas</td><td>5</td></tr><tr><td>Eritrea</td><td>beauty</td><td>5</td></tr><tr><td>Estonia</td><td>christmas</td><td>10</td></tr><tr><td>Ethiopia</td><td>art</td><td>10</td></tr><tr><td>Falkland Islands (Malvinas)</td><td>christmas</td><td>10</td></tr><tr><td>Faroe Islands</td><td>event-planning</td><td>9</td></tr><tr><td>Fiji</td><td>education</td><td>7</td></tr><tr><td>Fiji</td><td>vehicles</td><td>7</td></tr><tr><td>Finland</td><td>finance</td><td>8</td></tr><tr><td>France</td><td>beauty</td><td>7</td></tr><tr><td>French Guiana</td><td>finance</td><td>7</td></tr><tr><td>French Polynesia</td><td>event-planning</td><td>14</td></tr><tr><td>French Southern Territories</td><td>quotes</td><td>4</td></tr><tr><td>Gabon</td><td>diy-and-crafts</td><td>6</td></tr><tr><td>Gabon</td><td>beauty</td><td>6</td></tr><tr><td>Gambia</td><td>diy-and-crafts</td><td>6</td></tr><tr><td>Georgia</td><td>education</td><td>8</td></tr><tr><td>Germany</td><td>event-planning</td><td>12</td></tr><tr><td>Ghana</td><td>beauty</td><td>4</td></tr><tr><td>Ghana</td><td>quotes</td><td>4</td></tr><tr><td>Gibraltar</td><td>art</td><td>5</td></tr><tr><td>Gibraltar</td><td>mens-fashion</td><td>5</td></tr><tr><td>Greece</td><td>mens-fashion</td><td>10</td></tr><tr><td>Greenland</td><td>vehicles</td><td>6</td></tr><tr><td>Greenland</td><td>travel</td><td>6</td></tr><tr><td>Greenland</td><td>education</td><td>6</td></tr><tr><td>Grenada</td><td>quotes</td><td>12</td></tr><tr><td>Guadeloupe</td><td>christmas</td><td>9</td></tr><tr><td>Guam</td><td>beauty</td><td>5</td></tr><tr><td>Guam</td><td>vehicles</td><td>5</td></tr><tr><td>Guam</td><td>quotes</td><td>5</td></tr><tr><td>Guatemala</td><td>diy-and-crafts</td><td>7</td></tr><tr><td>Guernsey</td><td>tattoos</td><td>5</td></tr><tr><td>Guinea</td><td>finance</td><td>5</td></tr><tr><td>Guinea-Bissau</td><td>travel</td><td>8</td></tr><tr><td>Guyana</td><td>vehicles</td><td>5</td></tr><tr><td>Haiti</td><td>christmas</td><td>8</td></tr><tr><td>Heard Island and McDonald Islands</td><td>vehicles</td><td>9</td></tr><tr><td>Holy See (Vatican City State)</td><td>event-planning</td><td>5</td></tr><tr><td>Holy See (Vatican City State)</td><td>tattoos</td><td>5</td></tr><tr><td>Honduras</td><td>event-planning</td><td>6</td></tr><tr><td>Honduras</td><td>travel</td><td>6</td></tr><tr><td>Hong Kong</td><td>education</td><td>4</td></tr><tr><td>Hungary</td><td>vehicles</td><td>6</td></tr><tr><td>Iceland</td><td>beauty</td><td>4</td></tr><tr><td>India</td><td>art</td><td>8</td></tr><tr><td>Indonesia</td><td>finance</td><td>8</td></tr><tr><td>Iran</td><td>christmas</td><td>5</td></tr><tr><td>Iraq</td><td>christmas</td><td>9</td></tr><tr><td>Ireland</td><td>mens-fashion</td><td>4</td></tr><tr><td>Isle of Man</td><td>art</td><td>6</td></tr><tr><td>Israel</td><td>education</td><td>7</td></tr><tr><td>Italy</td><td>vehicles</td><td>8</td></tr><tr><td>Jamaica</td><td>education</td><td>9</td></tr><tr><td>Japan</td><td>art</td><td>6</td></tr><tr><td>Jersey</td><td>quotes</td><td>5</td></tr><tr><td>Jordan</td><td>home-decor</td><td>5</td></tr><tr><td>Jordan</td><td>mens-fashion</td><td>5</td></tr><tr><td>Kazakhstan</td><td>christmas</td><td>7</td></tr><tr><td>Kenya</td><td>mens-fashion</td><td>7</td></tr><tr><td>Kiribati</td><td>christmas</td><td>5</td></tr><tr><td>Korea</td><td>art</td><td>9</td></tr><tr><td>Kuwait</td><td>travel</td><td>11</td></tr><tr><td>Kyrgyz Republic</td><td>christmas</td><td>8</td></tr><tr><td>Lao People's Democratic Republic</td><td>beauty</td><td>6</td></tr><tr><td>Latvia</td><td>travel</td><td>5</td></tr><tr><td>Lebanon</td><td>vehicles</td><td>8</td></tr><tr><td>Lesotho</td><td>art</td><td>6</td></tr><tr><td>Liberia</td><td>travel</td><td>4</td></tr><tr><td>Libyan Arab Jamahiriya</td><td>vehicles</td><td>5</td></tr><tr><td>Liechtenstein</td><td>diy-and-crafts</td><td>6</td></tr><tr><td>Lithuania</td><td>art</td><td>3</td></tr><tr><td>Lithuania</td><td>diy-and-crafts</td><td>3</td></tr><tr><td>Lithuania</td><td>tattoos</td><td>3</td></tr><tr><td>Luxembourg</td><td>event-planning</td><td>3</td></tr><tr><td>Luxembourg</td><td>education</td><td>3</td></tr><tr><td>Macao</td><td>vehicles</td><td>9</td></tr><tr><td>Macedonia</td><td>vehicles</td><td>4</td></tr><tr><td>Madagascar</td><td>mens-fashion</td><td>7</td></tr><tr><td>Malawi</td><td>vehicles</td><td>6</td></tr><tr><td>Malawi</td><td>christmas</td><td>6</td></tr><tr><td>Malawi</td><td>mens-fashion</td><td>6</td></tr><tr><td>Malaysia</td><td>diy-and-crafts</td><td>4</td></tr><tr><td>Maldives</td><td>event-planning</td><td>4</td></tr><tr><td>Mali</td><td>christmas</td><td>5</td></tr><tr><td>Malta</td><td>event-planning</td><td>6</td></tr><tr><td>Marshall Islands</td><td>event-planning</td><td>5</td></tr><tr><td>Marshall Islands</td><td>travel</td><td>5</td></tr><tr><td>Martinique</td><td>art</td><td>6</td></tr><tr><td>Mauritania</td><td>christmas</td><td>4</td></tr><tr><td>Mauritius</td><td>home-decor</td><td>3</td></tr><tr><td>Mayotte</td><td>education</td><td>4</td></tr><tr><td>Mayotte</td><td>christmas</td><td>4</td></tr><tr><td>Mexico</td><td>vehicles</td><td>4</td></tr><tr><td>Mexico</td><td>home-decor</td><td>4</td></tr><tr><td>Micronesia</td><td>event-planning</td><td>4</td></tr><tr><td>Micronesia</td><td>mens-fashion</td><td>4</td></tr><tr><td>Moldova</td><td>beauty</td><td>6</td></tr><tr><td>Monaco</td><td>art</td><td>5</td></tr><tr><td>Monaco</td><td>mens-fashion</td><td>5</td></tr><tr><td>Mongolia</td><td>travel</td><td>5</td></tr><tr><td>Mongolia</td><td>vehicles</td><td>5</td></tr><tr><td>Mongolia</td><td>mens-fashion</td><td>5</td></tr><tr><td>Montenegro</td><td>mens-fashion</td><td>4</td></tr><tr><td>Montserrat</td><td>vehicles</td><td>8</td></tr><tr><td>Morocco</td><td>education</td><td>5</td></tr><tr><td>Morocco</td><td>vehicles</td><td>5</td></tr><tr><td>Mozambique</td><td>home-decor</td><td>5</td></tr><tr><td>Myanmar</td><td>christmas</td><td>8</td></tr><tr><td>Namibia</td><td>vehicles</td><td>5</td></tr><tr><td>Nauru</td><td>mens-fashion</td><td>6</td></tr><tr><td>Nepal</td><td>christmas</td><td>5</td></tr><tr><td>Nepal</td><td>finance</td><td>5</td></tr><tr><td>Netherlands</td><td>home-decor</td><td>6</td></tr><tr><td>Netherlands Antilles</td><td>art</td><td>7</td></tr><tr><td>New Caledonia</td><td>beauty</td><td>4</td></tr><tr><td>New Caledonia</td><td>mens-fashion</td><td>4</td></tr><tr><td>New Zealand</td><td>mens-fashion</td><td>4</td></tr><tr><td>Nicaragua</td><td>vehicles</td><td>5</td></tr><tr><td>Nicaragua</td><td>christmas</td><td>5</td></tr><tr><td>Niger</td><td>beauty</td><td>5</td></tr><tr><td>Nigeria</td><td>mens-fashion</td><td>7</td></tr><tr><td>Niue</td><td>tattoos</td><td>4</td></tr><tr><td>Norfolk Island</td><td>beauty</td><td>5</td></tr><tr><td>Northern Mariana Islands</td><td>education</td><td>2</td></tr><tr><td>Northern Mariana Islands</td><td>art</td><td>2</td></tr><tr><td>Northern Mariana Islands</td><td>vehicles</td><td>2</td></tr><tr><td>Norway</td><td>vehicles</td><td>3</td></tr><tr><td>Oman</td><td>finance</td><td>5</td></tr><tr><td>Pakistan</td><td>education</td><td>3</td></tr><tr><td>Pakistan</td><td>vehicles</td><td>3</td></tr><tr><td>Palau</td><td>vehicles</td><td>4</td></tr><tr><td>Palau</td><td>event-planning</td><td>4</td></tr><tr><td>Palestinian Territory</td><td>christmas</td><td>7</td></tr><tr><td>Panama</td><td>vehicles</td><td>5</td></tr><tr><td>Papua New Guinea</td><td>travel</td><td>6</td></tr><tr><td>Paraguay</td><td>vehicles</td><td>5</td></tr><tr><td>Paraguay</td><td>home-decor</td><td>5</td></tr><tr><td>Peru</td><td>beauty</td><td>4</td></tr><tr><td>Philippines</td><td>mens-fashion</td><td>4</td></tr><tr><td>Pitcairn Islands</td><td>finance</td><td>6</td></tr><tr><td>Poland</td><td>travel</td><td>3</td></tr><tr><td>Portugal</td><td>christmas</td><td>3</td></tr><tr><td>Portugal</td><td>art</td><td>3</td></tr><tr><td>Portugal</td><td>travel</td><td>3</td></tr><tr><td>Portugal</td><td>education</td><td>3</td></tr><tr><td>Puerto Rico</td><td>event-planning</td><td>4</td></tr><tr><td>Qatar</td><td>education</td><td>3</td></tr><tr><td>Reunion</td><td>home-decor</td><td>4</td></tr><tr><td>Romania</td><td>travel</td><td>2</td></tr><tr><td>Romania</td><td>mens-fashion</td><td>2</td></tr><tr><td>Romania</td><td>quotes</td><td>2</td></tr><tr><td>Russian Federation</td><td>christmas</td><td>6</td></tr><tr><td>Rwanda</td><td>diy-and-crafts</td><td>2</td></tr><tr><td>Rwanda</td><td>mens-fashion</td><td>2</td></tr><tr><td>Saint Barthelemy</td><td>education</td><td>2</td></tr><tr><td>Saint Barthelemy</td><td>vehicles</td><td>2</td></tr><tr><td>Saint Barthelemy</td><td>christmas</td><td>2</td></tr><tr><td>Saint Barthelemy</td><td>beauty</td><td>2</td></tr><tr><td>Saint Barthelemy</td><td>home-decor</td><td>2</td></tr><tr><td>Saint Barthelemy</td><td>mens-fashion</td><td>2</td></tr><tr><td>Saint Barthelemy</td><td>quotes</td><td>2</td></tr><tr><td>Saint Barthelemy</td><td>travel</td><td>2</td></tr><tr><td>Saint Helena</td><td>beauty</td><td>3</td></tr><tr><td>Saint Kitts and Nevis</td><td>vehicles</td><td>7</td></tr><tr><td>Saint Lucia</td><td>vehicles</td><td>3</td></tr><tr><td>Saint Lucia</td><td>tattoos</td><td>3</td></tr><tr><td>Saint Martin</td><td>quotes</td><td>4</td></tr><tr><td>Saint Pierre and Miquelon</td><td>mens-fashion</td><td>6</td></tr><tr><td>Saint Vincent and the Grenadines</td><td>christmas</td><td>4</td></tr><tr><td>Samoa</td><td>vehicles</td><td>5</td></tr><tr><td>San Marino</td><td>quotes</td><td>3</td></tr><tr><td>San Marino</td><td>mens-fashion</td><td>3</td></tr><tr><td>Sao Tome and Principe</td><td>finance</td><td>4</td></tr><tr><td>Saudi Arabia</td><td>mens-fashion</td><td>7</td></tr><tr><td>Senegal</td><td>beauty</td><td>2</td></tr><tr><td>Senegal</td><td>education</td><td>2</td></tr><tr><td>Senegal</td><td>vehicles</td><td>2</td></tr><tr><td>Senegal</td><td>travel</td><td>2</td></tr><tr><td>Senegal</td><td>diy-and-crafts</td><td>2</td></tr><tr><td>Senegal</td><td>mens-fashion</td><td>2</td></tr><tr><td>Serbia</td><td>diy-and-crafts</td><td>2</td></tr><tr><td>Serbia</td><td>travel</td><td>2</td></tr><tr><td>Seychelles</td><td>beauty</td><td>4</td></tr><tr><td>Sierra Leone</td><td>home-decor</td><td>3</td></tr><tr><td>Singapore</td><td>art</td><td>4</td></tr><tr><td>Slovakia (Slovak Republic)</td><td>vehicles</td><td>4</td></tr><tr><td>Slovenia</td><td>education</td><td>3</td></tr><tr><td>Solomon Islands</td><td>vehicles</td><td>9</td></tr><tr><td>Somalia</td><td>quotes</td><td>4</td></tr><tr><td>South Africa</td><td>beauty</td><td>3</td></tr><tr><td>South Georgia and the South Sandwich Islands</td><td>event-planning</td><td>4</td></tr><tr><td>Spain</td><td>beauty</td><td>3</td></tr><tr><td>Sri Lanka</td><td>mens-fashion</td><td>6</td></tr><tr><td>Sudan</td><td>art</td><td>3</td></tr><tr><td>Sudan</td><td>mens-fashion</td><td>3</td></tr><tr><td>Suriname</td><td>home-decor</td><td>2</td></tr><tr><td>Suriname</td><td>quotes</td><td>2</td></tr><tr><td>Svalbard & Jan Mayen Islands</td><td>finance</td><td>3</td></tr><tr><td>Svalbard & Jan Mayen Islands</td><td>mens-fashion</td><td>3</td></tr><tr><td>Swaziland</td><td>christmas</td><td>4</td></tr><tr><td>Sweden</td><td>finance</td><td>3</td></tr><tr><td>Sweden</td><td>event-planning</td><td>3</td></tr><tr><td>Sweden</td><td>travel</td><td>3</td></tr><tr><td>Sweden</td><td>mens-fashion</td><td>3</td></tr><tr><td>Switzerland</td><td>art</td><td>4</td></tr><tr><td>Switzerland</td><td>vehicles</td><td>4</td></tr><tr><td>Switzerland</td><td>quotes</td><td>4</td></tr><tr><td>Syrian Arab Republic</td><td>home-decor</td><td>4</td></tr><tr><td>Taiwan</td><td>vehicles</td><td>7</td></tr><tr><td>Tajikistan</td><td>event-planning</td><td>4</td></tr><tr><td>Tanzania</td><td>finance</td><td>3</td></tr><tr><td>Tanzania</td><td>mens-fashion</td><td>3</td></tr><tr><td>Thailand</td><td>home-decor</td><td>4</td></tr><tr><td>Timor-Leste</td><td>travel</td><td>6</td></tr><tr><td>Togo</td><td>travel</td><td>3</td></tr><tr><td>Tokelau</td><td>art</td><td>3</td></tr><tr><td>Tonga</td><td>finance</td><td>4</td></tr><tr><td>Trinidad and Tobago</td><td>christmas</td><td>4</td></tr><tr><td>Tunisia</td><td>education</td><td>3</td></tr><tr><td>Tunisia</td><td>quotes</td><td>3</td></tr><tr><td>Tunisia</td><td>home-decor</td><td>3</td></tr><tr><td>Turkey</td><td>beauty</td><td>3</td></tr><tr><td>Turkmenistan</td><td>event-planning</td><td>4</td></tr><tr><td>Turks and Caicos Islands</td><td>event-planning</td><td>5</td></tr><tr><td>Tuvalu</td><td>event-planning</td><td>3</td></tr><tr><td>Uganda</td><td>beauty</td><td>4</td></tr><tr><td>Uganda</td><td>event-planning</td><td>4</td></tr><tr><td>Uganda</td><td>mens-fashion</td><td>4</td></tr><tr><td>Ukraine</td><td>beauty</td><td>4</td></tr><tr><td>United Arab Emirates</td><td>vehicles</td><td>2</td></tr><tr><td>United Kingdom</td><td>christmas</td><td>4</td></tr><tr><td>United Kingdom</td><td>event-planning</td><td>4</td></tr><tr><td>United Kingdom</td><td>home-decor</td><td>4</td></tr><tr><td>United States Minor Outlying Islands</td><td>vehicles</td><td>3</td></tr><tr><td>United States Virgin Islands</td><td>quotes</td><td>4</td></tr><tr><td>United States of America</td><td>travel</td><td>3</td></tr><tr><td>United States of America</td><td>mens-fashion</td><td>3</td></tr><tr><td>Uruguay</td><td>vehicles</td><td>3</td></tr><tr><td>Uruguay</td><td>travel</td><td>3</td></tr><tr><td>Uzbekistan</td><td>vehicles</td><td>3</td></tr><tr><td>Vanuatu</td><td>quotes</td><td>3</td></tr><tr><td>Venezuela</td><td>finance</td><td>3</td></tr><tr><td>Venezuela</td><td>education</td><td>3</td></tr><tr><td>Vietnam</td><td>diy-and-crafts</td><td>2</td></tr><tr><td>Vietnam</td><td>finance</td><td>2</td></tr><tr><td>Vietnam</td><td>quotes</td><td>2</td></tr><tr><td>Vietnam</td><td>home-decor</td><td>2</td></tr><tr><td>Wallis and Futuna</td><td>travel</td><td>6</td></tr><tr><td>Western Sahara</td><td>vehicles</td><td>5</td></tr><tr><td>Yemen</td><td>christmas</td><td>5</td></tr><tr><td>Zambia</td><td>mens-fashion</td><td>4</td></tr><tr><td>Zimbabwe</td><td>christmas</td><td>3</td></tr></tbody></table></div>"
      ]
     },
     "metadata": {
      "application/vnd.databricks.v1+output": {
       "addedWidgets": {},
       "aggData": [],
       "aggError": "",
       "aggOverflow": false,
       "aggSchema": [],
       "aggSeriesLimitReached": false,
       "aggType": "",
       "arguments": {},
       "columnCustomDisplayInfos": {},
       "data": [
        [
         "Afghanistan",
         "education",
         94
        ],
        [
         "Albania",
         "art",
         193
        ],
        [
         "Algeria",
         "quotes",
         256
        ],
        [
         "American Samoa",
         "tattoos",
         98
        ],
        [
         "Andorra",
         "tattoos",
         77
        ],
        [
         "Angola",
         "education",
         30
        ],
        [
         "Anguilla",
         "christmas",
         25
        ],
        [
         "Antarctica (the territory South of 60 deg S)",
         "christmas",
         36
        ],
        [
         "Antigua and Barbuda",
         "travel",
         29
        ],
        [
         "Argentina",
         "tattoos",
         72
        ],
        [
         "Armenia",
         "vehicles",
         28
        ],
        [
         "Aruba",
         "christmas",
         56
        ],
        [
         "Australia",
         "christmas",
         17
        ],
        [
         "Austria",
         "tattoos",
         30
        ],
        [
         "Azerbaijan",
         "finance",
         35
        ],
        [
         "Bahamas",
         "event-planning",
         41
        ],
        [
         "Bahrain",
         "finance",
         12
        ],
        [
         "Bangladesh",
         "christmas",
         36
        ],
        [
         "Barbados",
         "art",
         24
        ],
        [
         "Belarus",
         "travel",
         19
        ],
        [
         "Belgium",
         "diy-and-crafts",
         14
        ],
        [
         "Belize",
         "diy-and-crafts",
         22
        ],
        [
         "Benin",
         "tattoos",
         20
        ],
        [
         "Bermuda",
         "tattoos",
         22
        ],
        [
         "Bhutan",
         "event-planning",
         10
        ],
        [
         "Bhutan",
         "christmas",
         10
        ],
        [
         "Bolivia",
         "home-decor",
         27
        ],
        [
         "Bosnia and Herzegovina",
         "tattoos",
         23
        ],
        [
         "Botswana",
         "finance",
         17
        ],
        [
         "Bouvet Island (Bouvetoya)",
         "travel",
         26
        ],
        [
         "Brazil",
         "home-decor",
         15
        ],
        [
         "British Indian Ocean Territory (Chagos Archipelago)",
         "mens-fashion",
         15
        ],
        [
         "British Virgin Islands",
         "christmas",
         20
        ],
        [
         "Brunei Darussalam",
         "event-planning",
         9
        ],
        [
         "Bulgaria",
         "education",
         17
        ],
        [
         "Burkina Faso",
         "vehicles",
         14
        ],
        [
         "Burkina Faso",
         "quotes",
         14
        ],
        [
         "Burundi",
         "beauty",
         13
        ],
        [
         "Cambodia",
         "beauty",
         8
        ],
        [
         "Cameroon",
         "art",
         13
        ],
        [
         "Canada",
         "event-planning",
         10
        ],
        [
         "Cape Verde",
         "travel",
         11
        ],
        [
         "Cayman Islands",
         "diy-and-crafts",
         8
        ],
        [
         "Central African Republic",
         "education",
         12
        ],
        [
         "Chad",
         "diy-and-crafts",
         16
        ],
        [
         "Chile",
         "mens-fashion",
         11
        ],
        [
         "China",
         "vehicles",
         5
        ],
        [
         "Christmas Island",
         "travel",
         18
        ],
        [
         "Cocos (Keeling) Islands",
         "finance",
         9
        ],
        [
         "Colombia",
         "christmas",
         12
        ],
        [
         "Comoros",
         "diy-and-crafts",
         15
        ],
        [
         "Congo",
         "travel",
         17
        ],
        [
         "Cook Islands",
         "diy-and-crafts",
         9
        ],
        [
         "Costa Rica",
         "home-decor",
         16
        ],
        [
         "Cote d'Ivoire",
         "beauty",
         10
        ],
        [
         "Croatia",
         "finance",
         11
        ],
        [
         "Cuba",
         "tattoos",
         11
        ],
        [
         "Cyprus",
         "vehicles",
         13
        ],
        [
         "Czech Republic",
         "travel",
         12
        ],
        [
         "Denmark",
         "education",
         9
        ],
        [
         "Djibouti",
         "diy-and-crafts",
         8
        ],
        [
         "Djibouti",
         "mens-fashion",
         8
        ],
        [
         "Dominica",
         "finance",
         4
        ],
        [
         "Dominica",
         "education",
         4
        ],
        [
         "Dominica",
         "event-planning",
         4
        ],
        [
         "Dominican Republic",
         "education",
         12
        ],
        [
         "Ecuador",
         "travel",
         14
        ],
        [
         "Egypt",
         "vehicles",
         14
        ],
        [
         "El Salvador",
         "travel",
         7
        ],
        [
         "El Salvador",
         "quotes",
         7
        ],
        [
         "Equatorial Guinea",
         "travel",
         5
        ],
        [
         "Equatorial Guinea",
         "beauty",
         5
        ],
        [
         "Equatorial Guinea",
         "quotes",
         5
        ],
        [
         "Eritrea",
         "christmas",
         5
        ],
        [
         "Eritrea",
         "beauty",
         5
        ],
        [
         "Estonia",
         "christmas",
         10
        ],
        [
         "Ethiopia",
         "art",
         10
        ],
        [
         "Falkland Islands (Malvinas)",
         "christmas",
         10
        ],
        [
         "Faroe Islands",
         "event-planning",
         9
        ],
        [
         "Fiji",
         "education",
         7
        ],
        [
         "Fiji",
         "vehicles",
         7
        ],
        [
         "Finland",
         "finance",
         8
        ],
        [
         "France",
         "beauty",
         7
        ],
        [
         "French Guiana",
         "finance",
         7
        ],
        [
         "French Polynesia",
         "event-planning",
         14
        ],
        [
         "French Southern Territories",
         "quotes",
         4
        ],
        [
         "Gabon",
         "diy-and-crafts",
         6
        ],
        [
         "Gabon",
         "beauty",
         6
        ],
        [
         "Gambia",
         "diy-and-crafts",
         6
        ],
        [
         "Georgia",
         "education",
         8
        ],
        [
         "Germany",
         "event-planning",
         12
        ],
        [
         "Ghana",
         "beauty",
         4
        ],
        [
         "Ghana",
         "quotes",
         4
        ],
        [
         "Gibraltar",
         "art",
         5
        ],
        [
         "Gibraltar",
         "mens-fashion",
         5
        ],
        [
         "Greece",
         "mens-fashion",
         10
        ],
        [
         "Greenland",
         "vehicles",
         6
        ],
        [
         "Greenland",
         "travel",
         6
        ],
        [
         "Greenland",
         "education",
         6
        ],
        [
         "Grenada",
         "quotes",
         12
        ],
        [
         "Guadeloupe",
         "christmas",
         9
        ],
        [
         "Guam",
         "beauty",
         5
        ],
        [
         "Guam",
         "vehicles",
         5
        ],
        [
         "Guam",
         "quotes",
         5
        ],
        [
         "Guatemala",
         "diy-and-crafts",
         7
        ],
        [
         "Guernsey",
         "tattoos",
         5
        ],
        [
         "Guinea",
         "finance",
         5
        ],
        [
         "Guinea-Bissau",
         "travel",
         8
        ],
        [
         "Guyana",
         "vehicles",
         5
        ],
        [
         "Haiti",
         "christmas",
         8
        ],
        [
         "Heard Island and McDonald Islands",
         "vehicles",
         9
        ],
        [
         "Holy See (Vatican City State)",
         "event-planning",
         5
        ],
        [
         "Holy See (Vatican City State)",
         "tattoos",
         5
        ],
        [
         "Honduras",
         "event-planning",
         6
        ],
        [
         "Honduras",
         "travel",
         6
        ],
        [
         "Hong Kong",
         "education",
         4
        ],
        [
         "Hungary",
         "vehicles",
         6
        ],
        [
         "Iceland",
         "beauty",
         4
        ],
        [
         "India",
         "art",
         8
        ],
        [
         "Indonesia",
         "finance",
         8
        ],
        [
         "Iran",
         "christmas",
         5
        ],
        [
         "Iraq",
         "christmas",
         9
        ],
        [
         "Ireland",
         "mens-fashion",
         4
        ],
        [
         "Isle of Man",
         "art",
         6
        ],
        [
         "Israel",
         "education",
         7
        ],
        [
         "Italy",
         "vehicles",
         8
        ],
        [
         "Jamaica",
         "education",
         9
        ],
        [
         "Japan",
         "art",
         6
        ],
        [
         "Jersey",
         "quotes",
         5
        ],
        [
         "Jordan",
         "home-decor",
         5
        ],
        [
         "Jordan",
         "mens-fashion",
         5
        ],
        [
         "Kazakhstan",
         "christmas",
         7
        ],
        [
         "Kenya",
         "mens-fashion",
         7
        ],
        [
         "Kiribati",
         "christmas",
         5
        ],
        [
         "Korea",
         "art",
         9
        ],
        [
         "Kuwait",
         "travel",
         11
        ],
        [
         "Kyrgyz Republic",
         "christmas",
         8
        ],
        [
         "Lao People's Democratic Republic",
         "beauty",
         6
        ],
        [
         "Latvia",
         "travel",
         5
        ],
        [
         "Lebanon",
         "vehicles",
         8
        ],
        [
         "Lesotho",
         "art",
         6
        ],
        [
         "Liberia",
         "travel",
         4
        ],
        [
         "Libyan Arab Jamahiriya",
         "vehicles",
         5
        ],
        [
         "Liechtenstein",
         "diy-and-crafts",
         6
        ],
        [
         "Lithuania",
         "art",
         3
        ],
        [
         "Lithuania",
         "diy-and-crafts",
         3
        ],
        [
         "Lithuania",
         "tattoos",
         3
        ],
        [
         "Luxembourg",
         "event-planning",
         3
        ],
        [
         "Luxembourg",
         "education",
         3
        ],
        [
         "Macao",
         "vehicles",
         9
        ],
        [
         "Macedonia",
         "vehicles",
         4
        ],
        [
         "Madagascar",
         "mens-fashion",
         7
        ],
        [
         "Malawi",
         "vehicles",
         6
        ],
        [
         "Malawi",
         "christmas",
         6
        ],
        [
         "Malawi",
         "mens-fashion",
         6
        ],
        [
         "Malaysia",
         "diy-and-crafts",
         4
        ],
        [
         "Maldives",
         "event-planning",
         4
        ],
        [
         "Mali",
         "christmas",
         5
        ],
        [
         "Malta",
         "event-planning",
         6
        ],
        [
         "Marshall Islands",
         "event-planning",
         5
        ],
        [
         "Marshall Islands",
         "travel",
         5
        ],
        [
         "Martinique",
         "art",
         6
        ],
        [
         "Mauritania",
         "christmas",
         4
        ],
        [
         "Mauritius",
         "home-decor",
         3
        ],
        [
         "Mayotte",
         "education",
         4
        ],
        [
         "Mayotte",
         "christmas",
         4
        ],
        [
         "Mexico",
         "vehicles",
         4
        ],
        [
         "Mexico",
         "home-decor",
         4
        ],
        [
         "Micronesia",
         "event-planning",
         4
        ],
        [
         "Micronesia",
         "mens-fashion",
         4
        ],
        [
         "Moldova",
         "beauty",
         6
        ],
        [
         "Monaco",
         "art",
         5
        ],
        [
         "Monaco",
         "mens-fashion",
         5
        ],
        [
         "Mongolia",
         "travel",
         5
        ],
        [
         "Mongolia",
         "vehicles",
         5
        ],
        [
         "Mongolia",
         "mens-fashion",
         5
        ],
        [
         "Montenegro",
         "mens-fashion",
         4
        ],
        [
         "Montserrat",
         "vehicles",
         8
        ],
        [
         "Morocco",
         "education",
         5
        ],
        [
         "Morocco",
         "vehicles",
         5
        ],
        [
         "Mozambique",
         "home-decor",
         5
        ],
        [
         "Myanmar",
         "christmas",
         8
        ],
        [
         "Namibia",
         "vehicles",
         5
        ],
        [
         "Nauru",
         "mens-fashion",
         6
        ],
        [
         "Nepal",
         "christmas",
         5
        ],
        [
         "Nepal",
         "finance",
         5
        ],
        [
         "Netherlands",
         "home-decor",
         6
        ],
        [
         "Netherlands Antilles",
         "art",
         7
        ],
        [
         "New Caledonia",
         "beauty",
         4
        ],
        [
         "New Caledonia",
         "mens-fashion",
         4
        ],
        [
         "New Zealand",
         "mens-fashion",
         4
        ],
        [
         "Nicaragua",
         "vehicles",
         5
        ],
        [
         "Nicaragua",
         "christmas",
         5
        ],
        [
         "Niger",
         "beauty",
         5
        ],
        [
         "Nigeria",
         "mens-fashion",
         7
        ],
        [
         "Niue",
         "tattoos",
         4
        ],
        [
         "Norfolk Island",
         "beauty",
         5
        ],
        [
         "Northern Mariana Islands",
         "education",
         2
        ],
        [
         "Northern Mariana Islands",
         "art",
         2
        ],
        [
         "Northern Mariana Islands",
         "vehicles",
         2
        ],
        [
         "Norway",
         "vehicles",
         3
        ],
        [
         "Oman",
         "finance",
         5
        ],
        [
         "Pakistan",
         "education",
         3
        ],
        [
         "Pakistan",
         "vehicles",
         3
        ],
        [
         "Palau",
         "vehicles",
         4
        ],
        [
         "Palau",
         "event-planning",
         4
        ],
        [
         "Palestinian Territory",
         "christmas",
         7
        ],
        [
         "Panama",
         "vehicles",
         5
        ],
        [
         "Papua New Guinea",
         "travel",
         6
        ],
        [
         "Paraguay",
         "vehicles",
         5
        ],
        [
         "Paraguay",
         "home-decor",
         5
        ],
        [
         "Peru",
         "beauty",
         4
        ],
        [
         "Philippines",
         "mens-fashion",
         4
        ],
        [
         "Pitcairn Islands",
         "finance",
         6
        ],
        [
         "Poland",
         "travel",
         3
        ],
        [
         "Portugal",
         "christmas",
         3
        ],
        [
         "Portugal",
         "art",
         3
        ],
        [
         "Portugal",
         "travel",
         3
        ],
        [
         "Portugal",
         "education",
         3
        ],
        [
         "Puerto Rico",
         "event-planning",
         4
        ],
        [
         "Qatar",
         "education",
         3
        ],
        [
         "Reunion",
         "home-decor",
         4
        ],
        [
         "Romania",
         "travel",
         2
        ],
        [
         "Romania",
         "mens-fashion",
         2
        ],
        [
         "Romania",
         "quotes",
         2
        ],
        [
         "Russian Federation",
         "christmas",
         6
        ],
        [
         "Rwanda",
         "diy-and-crafts",
         2
        ],
        [
         "Rwanda",
         "mens-fashion",
         2
        ],
        [
         "Saint Barthelemy",
         "education",
         2
        ],
        [
         "Saint Barthelemy",
         "vehicles",
         2
        ],
        [
         "Saint Barthelemy",
         "christmas",
         2
        ],
        [
         "Saint Barthelemy",
         "beauty",
         2
        ],
        [
         "Saint Barthelemy",
         "home-decor",
         2
        ],
        [
         "Saint Barthelemy",
         "mens-fashion",
         2
        ],
        [
         "Saint Barthelemy",
         "quotes",
         2
        ],
        [
         "Saint Barthelemy",
         "travel",
         2
        ],
        [
         "Saint Helena",
         "beauty",
         3
        ],
        [
         "Saint Kitts and Nevis",
         "vehicles",
         7
        ],
        [
         "Saint Lucia",
         "vehicles",
         3
        ],
        [
         "Saint Lucia",
         "tattoos",
         3
        ],
        [
         "Saint Martin",
         "quotes",
         4
        ],
        [
         "Saint Pierre and Miquelon",
         "mens-fashion",
         6
        ],
        [
         "Saint Vincent and the Grenadines",
         "christmas",
         4
        ],
        [
         "Samoa",
         "vehicles",
         5
        ],
        [
         "San Marino",
         "quotes",
         3
        ],
        [
         "San Marino",
         "mens-fashion",
         3
        ],
        [
         "Sao Tome and Principe",
         "finance",
         4
        ],
        [
         "Saudi Arabia",
         "mens-fashion",
         7
        ],
        [
         "Senegal",
         "beauty",
         2
        ],
        [
         "Senegal",
         "education",
         2
        ],
        [
         "Senegal",
         "vehicles",
         2
        ],
        [
         "Senegal",
         "travel",
         2
        ],
        [
         "Senegal",
         "diy-and-crafts",
         2
        ],
        [
         "Senegal",
         "mens-fashion",
         2
        ],
        [
         "Serbia",
         "diy-and-crafts",
         2
        ],
        [
         "Serbia",
         "travel",
         2
        ],
        [
         "Seychelles",
         "beauty",
         4
        ],
        [
         "Sierra Leone",
         "home-decor",
         3
        ],
        [
         "Singapore",
         "art",
         4
        ],
        [
         "Slovakia (Slovak Republic)",
         "vehicles",
         4
        ],
        [
         "Slovenia",
         "education",
         3
        ],
        [
         "Solomon Islands",
         "vehicles",
         9
        ],
        [
         "Somalia",
         "quotes",
         4
        ],
        [
         "South Africa",
         "beauty",
         3
        ],
        [
         "South Georgia and the South Sandwich Islands",
         "event-planning",
         4
        ],
        [
         "Spain",
         "beauty",
         3
        ],
        [
         "Sri Lanka",
         "mens-fashion",
         6
        ],
        [
         "Sudan",
         "art",
         3
        ],
        [
         "Sudan",
         "mens-fashion",
         3
        ],
        [
         "Suriname",
         "home-decor",
         2
        ],
        [
         "Suriname",
         "quotes",
         2
        ],
        [
         "Svalbard & Jan Mayen Islands",
         "finance",
         3
        ],
        [
         "Svalbard & Jan Mayen Islands",
         "mens-fashion",
         3
        ],
        [
         "Swaziland",
         "christmas",
         4
        ],
        [
         "Sweden",
         "finance",
         3
        ],
        [
         "Sweden",
         "event-planning",
         3
        ],
        [
         "Sweden",
         "travel",
         3
        ],
        [
         "Sweden",
         "mens-fashion",
         3
        ],
        [
         "Switzerland",
         "art",
         4
        ],
        [
         "Switzerland",
         "vehicles",
         4
        ],
        [
         "Switzerland",
         "quotes",
         4
        ],
        [
         "Syrian Arab Republic",
         "home-decor",
         4
        ],
        [
         "Taiwan",
         "vehicles",
         7
        ],
        [
         "Tajikistan",
         "event-planning",
         4
        ],
        [
         "Tanzania",
         "finance",
         3
        ],
        [
         "Tanzania",
         "mens-fashion",
         3
        ],
        [
         "Thailand",
         "home-decor",
         4
        ],
        [
         "Timor-Leste",
         "travel",
         6
        ],
        [
         "Togo",
         "travel",
         3
        ],
        [
         "Tokelau",
         "art",
         3
        ],
        [
         "Tonga",
         "finance",
         4
        ],
        [
         "Trinidad and Tobago",
         "christmas",
         4
        ],
        [
         "Tunisia",
         "education",
         3
        ],
        [
         "Tunisia",
         "quotes",
         3
        ],
        [
         "Tunisia",
         "home-decor",
         3
        ],
        [
         "Turkey",
         "beauty",
         3
        ],
        [
         "Turkmenistan",
         "event-planning",
         4
        ],
        [
         "Turks and Caicos Islands",
         "event-planning",
         5
        ],
        [
         "Tuvalu",
         "event-planning",
         3
        ],
        [
         "Uganda",
         "beauty",
         4
        ],
        [
         "Uganda",
         "event-planning",
         4
        ],
        [
         "Uganda",
         "mens-fashion",
         4
        ],
        [
         "Ukraine",
         "beauty",
         4
        ],
        [
         "United Arab Emirates",
         "vehicles",
         2
        ],
        [
         "United Kingdom",
         "christmas",
         4
        ],
        [
         "United Kingdom",
         "event-planning",
         4
        ],
        [
         "United Kingdom",
         "home-decor",
         4
        ],
        [
         "United States Minor Outlying Islands",
         "vehicles",
         3
        ],
        [
         "United States Virgin Islands",
         "quotes",
         4
        ],
        [
         "United States of America",
         "travel",
         3
        ],
        [
         "United States of America",
         "mens-fashion",
         3
        ],
        [
         "Uruguay",
         "vehicles",
         3
        ],
        [
         "Uruguay",
         "travel",
         3
        ],
        [
         "Uzbekistan",
         "vehicles",
         3
        ],
        [
         "Vanuatu",
         "quotes",
         3
        ],
        [
         "Venezuela",
         "finance",
         3
        ],
        [
         "Venezuela",
         "education",
         3
        ],
        [
         "Vietnam",
         "diy-and-crafts",
         2
        ],
        [
         "Vietnam",
         "finance",
         2
        ],
        [
         "Vietnam",
         "quotes",
         2
        ],
        [
         "Vietnam",
         "home-decor",
         2
        ],
        [
         "Wallis and Futuna",
         "travel",
         6
        ],
        [
         "Western Sahara",
         "vehicles",
         5
        ],
        [
         "Yemen",
         "christmas",
         5
        ],
        [
         "Zambia",
         "mens-fashion",
         4
        ],
        [
         "Zimbabwe",
         "christmas",
         3
        ]
       ],
       "datasetInfos": [],
       "dbfsResultPath": null,
       "isJsonSchema": true,
       "metadata": {},
       "overflow": false,
       "plotOptions": {
        "customPlotOptions": {},
        "displayType": "table",
        "pivotAggregation": null,
        "pivotColumns": null,
        "xColumns": null,
        "yColumns": null
       },
       "removedWidgets": [],
       "schema": [
        {
         "metadata": "{}",
         "name": "country",
         "type": "\"string\""
        },
        {
         "metadata": "{}",
         "name": "category",
         "type": "\"string\""
        },
        {
         "metadata": "{}",
         "name": "category_count",
         "type": "\"long\""
        }
       ],
       "type": "table"
      }
     },
     "output_type": "display_data"
    }
   ],
   "source": [
    "%sql\n",
    "select country, category, category_count\n",
    "from(\n",
    "  select country, \n",
    "       category, \n",
    "       count(*) as category_count,\n",
    "       rank() over(partition by country order by count(*) desc) as rank\n",
    "  from view_pin inner join view_geo\n",
    "  on view_pin.ind == view_geo.ind\n",
    "  group by country, category\n",
    ") tmp\n",
    "where rank = 1"
   ]
  },
  {
   "cell_type": "markdown",
   "metadata": {
    "application/vnd.databricks.v1+cell": {
     "cellMetadata": {},
     "inputWidgets": {},
     "nuid": "e41bcfeb-0a0d-4dc7-8592-b93cf44d4485",
     "showTitle": false,
     "title": ""
    }
   },
   "source": [
    "# Find which was the most popular category each year"
   ]
  },
  {
   "cell_type": "markdown",
   "metadata": {
    "application/vnd.databricks.v1+cell": {
     "cellMetadata": {},
     "inputWidgets": {},
     "nuid": "2b8d5552-fa87-49dd-a4b5-2c316019cde2",
     "showTitle": false,
     "title": ""
    }
   },
   "source": [
    "## Spark"
   ]
  },
  {
   "cell_type": "code",
   "execution_count": 0,
   "metadata": {
    "application/vnd.databricks.v1+cell": {
     "cellMetadata": {
      "byteLimit": 2048000,
      "rowLimit": 10000
     },
     "inputWidgets": {},
     "nuid": "eab8d00d-7975-436e-b765-b5db297030e4",
     "showTitle": false,
     "title": ""
    }
   },
   "outputs": [
    {
     "output_type": "display_data",
     "data": {
      "text/html": [
       "<style scoped>\n",
       "  .ansiout {\n",
       "    display: block;\n",
       "    unicode-bidi: embed;\n",
       "    white-space: pre-wrap;\n",
       "    word-wrap: break-word;\n",
       "    word-break: break-all;\n",
       "    font-family: \"Menlo\", \"Monaco\", \"Consolas\", \"Ubuntu Mono\", \"Source Code Pro\", monospace;\n",
       "    font-size: 13px;\n",
       "    color: #555;\n",
       "    margin-left: 4px;\n",
       "    line-height: 19px;\n",
       "  }\n",
       "</style>\n",
       "<div class=\"ansiout\">+---------+----------+--------------+\n",
       "post_year|  category|category_count|\n",
       "+---------+----------+--------------+\n",
       "     2017|home-decor|            42|\n",
       "     2018| christmas|           210|\n",
       "     2019| christmas|           205|\n",
       "     2020| christmas|           191|\n",
       "     2021| education|           200|\n",
       "     2022| christmas|           171|\n",
       "+---------+----------+--------------+\n",
       "\n",
       "</div>"
      ]
     },
     "metadata": {
      "application/vnd.databricks.v1+output": {
       "addedWidgets": {},
       "arguments": {},
       "data": "<div class=\"ansiout\">+---------+----------+--------------+\n|post_year|  category|category_count|\n+---------+----------+--------------+\n|     2017|home-decor|            42|\n|     2018| christmas|           210|\n|     2019| christmas|           205|\n|     2020| christmas|           191|\n|     2021| education|           200|\n|     2022| christmas|           171|\n+---------+----------+--------------+\n\n</div>",
       "datasetInfos": [],
       "metadata": {},
       "removedWidgets": [],
       "type": "html"
      }
     },
     "output_type": "display_data"
    }
   ],
   "source": [
    "# create a window function partitioned by post_year and ordered by descending order\n",
    "window = Window.partitionBy(\"post_year\").orderBy(F.desc(\"category_count\"))\n",
    "\n",
    "# join df_pin and df_geo and find the most popular category each year\n",
    "popular_category_each_year = (\n",
    "    df_pin.join(df_geo, on=df_pin.ind == df_geo.ind, how=\"inner\")\n",
    "    .withColumn(\"post_year\", F.year(F.col(\"timestamp\")))\n",
    "    .select(F.col(\"post_year\"), F.col(\"category\"))\n",
    "    .groupBy(\"post_year\", \"category\").agg(F.count(\"*\").alias(\"category_count\"))\n",
    "    .withColumn(\"rank\", F.rank().over(window))\n",
    "    .filter(F.col(\"rank\") == 1)\n",
    "    .drop(F.col(\"rank\"))\n",
    ")\n",
    "\n",
    "popular_category_each_year.show()"
   ]
  },
  {
   "cell_type": "markdown",
   "metadata": {
    "application/vnd.databricks.v1+cell": {
     "cellMetadata": {},
     "inputWidgets": {},
     "nuid": "b96014b2-1d6a-44a0-abd1-c1cfcff53c6d",
     "showTitle": false,
     "title": ""
    }
   },
   "source": [
    "## SQL"
   ]
  },
  {
   "cell_type": "code",
   "execution_count": 0,
   "metadata": {
    "application/vnd.databricks.v1+cell": {
     "cellMetadata": {
      "byteLimit": 2048000,
      "implicitDf": true,
      "rowLimit": 10000
     },
     "inputWidgets": {},
     "nuid": "660d4206-13cf-4ba5-b375-bbbd87be003f",
     "showTitle": false,
     "title": ""
    }
   },
   "outputs": [
    {
     "output_type": "display_data",
     "data": {
      "text/html": [
       "<style scoped>\n",
       "  .table-result-container {\n",
       "    max-height: 300px;\n",
       "    overflow: auto;\n",
       "  }\n",
       "  table, th, td {\n",
       "    border: 1px solid black;\n",
       "    border-collapse: collapse;\n",
       "  }\n",
       "  th, td {\n",
       "    padding: 5px;\n",
       "  }\n",
       "  th {\n",
       "    text-align: left;\n",
       "  }\n",
       "</style><div class='table-result-container'><table class='table-result'><thead style='background-color: white'><tr><th>post_year</th><th>category</th><th>category_count</th></tr></thead><tbody><tr><td>2017</td><td>home-decor</td><td>42</td></tr><tr><td>2018</td><td>christmas</td><td>210</td></tr><tr><td>2019</td><td>christmas</td><td>205</td></tr><tr><td>2020</td><td>christmas</td><td>191</td></tr><tr><td>2021</td><td>education</td><td>200</td></tr><tr><td>2022</td><td>christmas</td><td>171</td></tr></tbody></table></div>"
      ]
     },
     "metadata": {
      "application/vnd.databricks.v1+output": {
       "addedWidgets": {},
       "aggData": [],
       "aggError": "",
       "aggOverflow": false,
       "aggSchema": [],
       "aggSeriesLimitReached": false,
       "aggType": "",
       "arguments": {},
       "columnCustomDisplayInfos": {},
       "data": [
        [
         2017,
         "home-decor",
         42
        ],
        [
         2018,
         "christmas",
         210
        ],
        [
         2019,
         "christmas",
         205
        ],
        [
         2020,
         "christmas",
         191
        ],
        [
         2021,
         "education",
         200
        ],
        [
         2022,
         "christmas",
         171
        ]
       ],
       "datasetInfos": [],
       "dbfsResultPath": null,
       "isJsonSchema": true,
       "metadata": {},
       "overflow": false,
       "plotOptions": {
        "customPlotOptions": {},
        "displayType": "table",
        "pivotAggregation": null,
        "pivotColumns": null,
        "xColumns": null,
        "yColumns": null
       },
       "removedWidgets": [],
       "schema": [
        {
         "metadata": "{}",
         "name": "post_year",
         "type": "\"integer\""
        },
        {
         "metadata": "{}",
         "name": "category",
         "type": "\"string\""
        },
        {
         "metadata": "{}",
         "name": "category_count",
         "type": "\"long\""
        }
       ],
       "type": "table"
      }
     },
     "output_type": "display_data"
    }
   ],
   "source": [
    "%sql\n",
    "SELECT post_year, category, category_count\n",
    "FROM( \n",
    "  SELECT YEAR(timestamp) as post_year,\n",
    "        category,\n",
    "        COUNT(*) as category_count,\n",
    "        RANK() OVER (PARTITION BY YEAR(timestamp) ORDER BY COUNT(*) DESC) AS rank\n",
    "  FROM view_pin\n",
    "  INNER JOIN view_geo ON view_pin.ind = view_geo.ind\n",
    "  GROUP BY YEAR(TIMESTAMP), category\n",
    ") tmp\n",
    "WHERE rank = 1"
   ]
  },
  {
   "cell_type": "markdown",
   "metadata": {
    "application/vnd.databricks.v1+cell": {
     "cellMetadata": {},
     "inputWidgets": {},
     "nuid": "8e53fede-df48-426a-b4a1-09c7deb4deb2",
     "showTitle": false,
     "title": ""
    }
   },
   "source": [
    "## Find the user with most followers in each country"
   ]
  },
  {
   "cell_type": "markdown",
   "metadata": {
    "application/vnd.databricks.v1+cell": {
     "cellMetadata": {},
     "inputWidgets": {},
     "nuid": "390d43b6-eb13-4f27-a85f-25672608ed3a",
     "showTitle": false,
     "title": ""
    }
   },
   "source": [
    "## Spark"
   ]
  },
  {
   "cell_type": "code",
   "execution_count": 0,
   "metadata": {
    "application/vnd.databricks.v1+cell": {
     "cellMetadata": {
      "byteLimit": 2048000,
      "rowLimit": 10000
     },
     "inputWidgets": {},
     "nuid": "6fb3d341-a44e-4cf9-b411-c0ef68ea7884",
     "showTitle": false,
     "title": ""
    }
   },
   "outputs": [
    {
     "output_type": "display_data",
     "data": {
      "text/html": [
       "<style scoped>\n",
       "  .ansiout {\n",
       "    display: block;\n",
       "    unicode-bidi: embed;\n",
       "    white-space: pre-wrap;\n",
       "    word-wrap: break-word;\n",
       "    word-break: break-all;\n",
       "    font-family: \"Menlo\", \"Monaco\", \"Consolas\", \"Ubuntu Mono\", \"Source Code Pro\", monospace;\n",
       "    font-size: 13px;\n",
       "    color: #555;\n",
       "    margin-left: 4px;\n",
       "    line-height: 19px;\n",
       "  }\n",
       "</style>\n",
       "<div class=\"ansiout\">+--------+--------------+\n",
       " country|follower_count|\n",
       "+--------+--------------+\n",
       "Anguilla|      15000000|\n",
       "+--------+--------------+\n",
       "\n",
       "</div>"
      ]
     },
     "metadata": {
      "application/vnd.databricks.v1+output": {
       "addedWidgets": {},
       "arguments": {},
       "data": "<div class=\"ansiout\">+--------+--------------+\n| country|follower_count|\n+--------+--------------+\n|Anguilla|      15000000|\n+--------+--------------+\n\n</div>",
       "datasetInfos": [],
       "metadata": {},
       "removedWidgets": [],
       "type": "html"
      }
     },
     "output_type": "display_data"
    }
   ],
   "source": [
    "# window function partitioned by \"country\" and ordered by \"follower_count\" so that it can be ranked later\n",
    "window = Window.partitionBy(\"country\").orderBy(F.desc(\"follower_count\"))\n",
    "\n",
    "country_with_the_most_follower_count = (\n",
    "    df_geo.join(df_pin, on=\"ind\", how=\"inner\")\n",
    "            .join(df_user, on=df_geo.ind == df_user.ind, how=\"inner\")\n",
    "            .select(\"country\", \"user_name\", \"poster_name\", \"follower_count\")\n",
    "            .withColumn(\"rank\", F.row_number().over(window))\n",
    "            .filter(F.col(\"rank\") == 1)\n",
    "            .orderBy(F.desc(F.col(\"follower_count\")))\n",
    "            .limit(1)\n",
    "            .select(\"country\", \"follower_count\")\n",
    ")\n",
    "\n",
    "country_with_the_most_follower_count.show()"
   ]
  },
  {
   "cell_type": "markdown",
   "metadata": {
    "application/vnd.databricks.v1+cell": {
     "cellMetadata": {},
     "inputWidgets": {},
     "nuid": "ee39a233-1aee-401d-8946-0987d2a653d8",
     "showTitle": false,
     "title": ""
    }
   },
   "source": [
    "## SQL"
   ]
  },
  {
   "cell_type": "code",
   "execution_count": 0,
   "metadata": {
    "application/vnd.databricks.v1+cell": {
     "cellMetadata": {
      "byteLimit": 2048000,
      "implicitDf": true,
      "rowLimit": 10000
     },
     "inputWidgets": {},
     "nuid": "19f7a3a9-ef46-4f9f-bb8b-3a0f774a469d",
     "showTitle": false,
     "title": ""
    }
   },
   "outputs": [
    {
     "output_type": "display_data",
     "data": {
      "text/html": [
       "<style scoped>\n",
       "  .table-result-container {\n",
       "    max-height: 300px;\n",
       "    overflow: auto;\n",
       "  }\n",
       "  table, th, td {\n",
       "    border: 1px solid black;\n",
       "    border-collapse: collapse;\n",
       "  }\n",
       "  th, td {\n",
       "    padding: 5px;\n",
       "  }\n",
       "  th {\n",
       "    text-align: left;\n",
       "  }\n",
       "</style><div class='table-result-container'><table class='table-result'><thead style='background-color: white'><tr><th>country</th><th>follower_count</th></tr></thead><tbody><tr><td>Anguilla</td><td>15000000</td></tr></tbody></table></div>"
      ]
     },
     "metadata": {
      "application/vnd.databricks.v1+output": {
       "addedWidgets": {},
       "aggData": [],
       "aggError": "",
       "aggOverflow": false,
       "aggSchema": [],
       "aggSeriesLimitReached": false,
       "aggType": "",
       "arguments": {},
       "columnCustomDisplayInfos": {},
       "data": [
        [
         "Anguilla",
         15000000
        ]
       ],
       "datasetInfos": [],
       "dbfsResultPath": null,
       "isJsonSchema": true,
       "metadata": {},
       "overflow": false,
       "plotOptions": {
        "customPlotOptions": {},
        "displayType": "table",
        "pivotAggregation": null,
        "pivotColumns": null,
        "xColumns": null,
        "yColumns": null
       },
       "removedWidgets": [],
       "schema": [
        {
         "metadata": "{}",
         "name": "country",
         "type": "\"string\""
        },
        {
         "metadata": "{}",
         "name": "follower_count",
         "type": "\"integer\""
        }
       ],
       "type": "table"
      }
     },
     "output_type": "display_data"
    }
   ],
   "source": [
    "%sql\n",
    "SELECT country, follower_count\n",
    "FROM (SELECT country, \n",
    "      user_name, \n",
    "      poster_name, \n",
    "      follower_count,\n",
    "      ROW_NUMBER() OVER (PARTITION BY country ORDER BY follower_count DESC) as rank\n",
    "FROM view_geo\n",
    "INNER JOIN view_pin ON view_geo.ind = view_pin.ind\n",
    "INNER JOIN view_user ON view_geo.ind = view_user.ind) tmp\n",
    "WHERE rank = 1\n",
    "ORDER BY follower_count DESC\n",
    "LIMIT 1"
   ]
  },
  {
   "cell_type": "markdown",
   "metadata": {
    "application/vnd.databricks.v1+cell": {
     "cellMetadata": {},
     "inputWidgets": {},
     "nuid": "031c67bc-7caa-49d1-8ca7-ca773d3ee82a",
     "showTitle": false,
     "title": ""
    }
   },
   "source": [
    "# Find the most popular category for different age groups"
   ]
  },
  {
   "cell_type": "markdown",
   "metadata": {
    "application/vnd.databricks.v1+cell": {
     "cellMetadata": {},
     "inputWidgets": {},
     "nuid": "fcbe8ba8-bbd3-41ff-9a43-fc08914c0cbd",
     "showTitle": false,
     "title": ""
    }
   },
   "source": [
    "## Spark"
   ]
  },
  {
   "cell_type": "code",
   "execution_count": 0,
   "metadata": {
    "application/vnd.databricks.v1+cell": {
     "cellMetadata": {
      "byteLimit": 2048000,
      "rowLimit": 10000
     },
     "inputWidgets": {},
     "nuid": "a01ee419-82db-4a99-a6d1-95e6846aa38e",
     "showTitle": false,
     "title": ""
    }
   },
   "outputs": [
    {
     "output_type": "display_data",
     "data": {
      "text/html": [
       "<style scoped>\n",
       "  .table-result-container {\n",
       "    max-height: 300px;\n",
       "    overflow: auto;\n",
       "  }\n",
       "  table, th, td {\n",
       "    border: 1px solid black;\n",
       "    border-collapse: collapse;\n",
       "  }\n",
       "  th, td {\n",
       "    padding: 5px;\n",
       "  }\n",
       "  th {\n",
       "    text-align: left;\n",
       "  }\n",
       "</style><div class='table-result-container'><table class='table-result'><thead style='background-color: white'><tr><th>age_group</th><th>category</th><th>category_count</th></tr></thead><tbody><tr><td>+50</td><td>vehicles</td><td>114</td></tr><tr><td>18-24</td><td>tattoos</td><td>615</td></tr><tr><td>25-35</td><td>christmas</td><td>321</td></tr><tr><td>36-50</td><td>vehicles</td><td>215</td></tr></tbody></table></div>"
      ]
     },
     "metadata": {
      "application/vnd.databricks.v1+output": {
       "addedWidgets": {},
       "aggData": [],
       "aggError": "",
       "aggOverflow": false,
       "aggSchema": [],
       "aggSeriesLimitReached": false,
       "aggType": "",
       "arguments": {},
       "columnCustomDisplayInfos": {},
       "data": [
        [
         "+50",
         "vehicles",
         114
        ],
        [
         "18-24",
         "tattoos",
         615
        ],
        [
         "25-35",
         "christmas",
         321
        ],
        [
         "36-50",
         "vehicles",
         215
        ]
       ],
       "datasetInfos": [],
       "dbfsResultPath": null,
       "isJsonSchema": true,
       "metadata": {},
       "overflow": false,
       "plotOptions": {
        "customPlotOptions": {},
        "displayType": "table",
        "pivotAggregation": null,
        "pivotColumns": null,
        "xColumns": null,
        "yColumns": null
       },
       "removedWidgets": [],
       "schema": [
        {
         "metadata": "{}",
         "name": "age_group",
         "type": "\"string\""
        },
        {
         "metadata": "{}",
         "name": "category",
         "type": "\"string\""
        },
        {
         "metadata": "{}",
         "name": "category_count",
         "type": "\"long\""
        }
       ],
       "type": "table"
      }
     },
     "output_type": "display_data"
    }
   ],
   "source": [
    "# window function partitioned by 'age_group' and ordered by 'count' to rank the count\n",
    "window = Window.partitionBy(\"agE_group\").orderBy(F.desc(\"category_count\"))\n",
    "\n",
    "most_popular_category_by_age_group = (\n",
    "    df_user.withColumn(\n",
    "        \"age_group\",\n",
    "        F.when((F.col(\"age\") >= 18) & (F.col(\"age\") <= 24), \"18-24\")\n",
    "        .when((F.col(\"age\") >= 25) & (F.col(\"age\") <= 35), \"25-35\")\n",
    "        .when((F.col(\"age\") >= 36) & (F.col(\"age\") <= 50), \"36-50\")\n",
    "        .otherwise(\"+50\")\n",
    "    )\n",
    "    .join(df_pin, on=\"ind\", how=\"inner\")\n",
    "    .groupBy(\"age_group\", \"category\").agg(F.count(\"*\").alias(\"category_count\"))\n",
    "    .withColumn(\"rank\", F.row_number().over(window))\n",
    "    .filter(F.col(\"rank\") == 1)\n",
    "    .drop(\"rank\")\n",
    ")\n",
    "\n",
    "display(most_popular_category_by_age_group)"
   ]
  },
  {
   "cell_type": "markdown",
   "metadata": {
    "application/vnd.databricks.v1+cell": {
     "cellMetadata": {},
     "inputWidgets": {},
     "nuid": "9b2588fe-a063-4525-95d9-2b5ddb43d98d",
     "showTitle": false,
     "title": ""
    }
   },
   "source": [
    "## SQL"
   ]
  },
  {
   "cell_type": "code",
   "execution_count": 0,
   "metadata": {
    "application/vnd.databricks.v1+cell": {
     "cellMetadata": {
      "byteLimit": 2048000,
      "implicitDf": true,
      "rowLimit": 10000
     },
     "inputWidgets": {},
     "nuid": "bbec6bab-aa84-4c14-9cf8-1625f622d51e",
     "showTitle": false,
     "title": ""
    }
   },
   "outputs": [
    {
     "output_type": "display_data",
     "data": {
      "text/html": [
       "<style scoped>\n",
       "  .table-result-container {\n",
       "    max-height: 300px;\n",
       "    overflow: auto;\n",
       "  }\n",
       "  table, th, td {\n",
       "    border: 1px solid black;\n",
       "    border-collapse: collapse;\n",
       "  }\n",
       "  th, td {\n",
       "    padding: 5px;\n",
       "  }\n",
       "  th {\n",
       "    text-align: left;\n",
       "  }\n",
       "</style><div class='table-result-container'><table class='table-result'><thead style='background-color: white'><tr><th>age_group</th><th>category</th><th>category_count</th></tr></thead><tbody><tr><td>+50</td><td>vehicles</td><td>114</td></tr><tr><td>18-24</td><td>tattoos</td><td>615</td></tr><tr><td>25-35</td><td>christmas</td><td>321</td></tr><tr><td>36-50</td><td>vehicles</td><td>215</td></tr></tbody></table></div>"
      ]
     },
     "metadata": {
      "application/vnd.databricks.v1+output": {
       "addedWidgets": {},
       "aggData": [],
       "aggError": "",
       "aggOverflow": false,
       "aggSchema": [],
       "aggSeriesLimitReached": false,
       "aggType": "",
       "arguments": {},
       "columnCustomDisplayInfos": {},
       "data": [
        [
         "+50",
         "vehicles",
         114
        ],
        [
         "18-24",
         "tattoos",
         615
        ],
        [
         "25-35",
         "christmas",
         321
        ],
        [
         "36-50",
         "vehicles",
         215
        ]
       ],
       "datasetInfos": [],
       "dbfsResultPath": null,
       "isJsonSchema": true,
       "metadata": {},
       "overflow": false,
       "plotOptions": {
        "customPlotOptions": {},
        "displayType": "table",
        "pivotAggregation": null,
        "pivotColumns": null,
        "xColumns": null,
        "yColumns": null
       },
       "removedWidgets": [],
       "schema": [
        {
         "metadata": "{}",
         "name": "age_group",
         "type": "\"string\""
        },
        {
         "metadata": "{}",
         "name": "category",
         "type": "\"string\""
        },
        {
         "metadata": "{}",
         "name": "category_count",
         "type": "\"long\""
        }
       ],
       "type": "table"
      }
     },
     "output_type": "display_data"
    }
   ],
   "source": [
    "%sql\n",
    "CREATE OR REPLACE TEMPORARY VIEW age_group_table AS\n",
    "SELECT ind, age, \n",
    "        CASE\n",
    "          WHEN age BETWEEN 18 AND 24 THEN \"18-24\"\n",
    "          WHEN age BETWEEN 25 AND 35 THEN \"25-35\"\n",
    "          WHEN age BETWEEN 36 AND 50 THEN \"36-50\"\n",
    "          ELSE \"+50\"\n",
    "        END AS age_group\n",
    " FROM view_user;\n",
    "\n",
    "CREATE OR REPLACE TEMPORARY VIEW age_group_count_table AS\n",
    "SELECT category, \n",
    "        age_group, \n",
    "        COUNT(*) AS category_count,\n",
    "        ROW_NUMBER() OVER (PARTITION BY age_group ORDER BY COUNT(*) DESC) as rank\n",
    "FROM view_pin\n",
    "INNER JOIN age_group_table ON view_pin.ind = age_group_table.ind\n",
    "GROUP BY age_group, category;\n",
    "\n",
    "SELECT age_group, category, category_count\n",
    "FROM age_group_count_table\n",
    "WHERE rank = 1;"
   ]
  },
  {
   "cell_type": "markdown",
   "metadata": {
    "application/vnd.databricks.v1+cell": {
     "cellMetadata": {},
     "inputWidgets": {},
     "nuid": "53c7af47-e356-4026-96c8-482f2d4ccbb6",
     "showTitle": false,
     "title": ""
    }
   },
   "source": [
    "# Find the median follower count for different age groups"
   ]
  },
  {
   "cell_type": "markdown",
   "metadata": {
    "application/vnd.databricks.v1+cell": {
     "cellMetadata": {},
     "inputWidgets": {},
     "nuid": "c8290d99-2a02-49e0-8852-7274863f8794",
     "showTitle": false,
     "title": ""
    }
   },
   "source": [
    "## Spark"
   ]
  },
  {
   "cell_type": "code",
   "execution_count": 0,
   "metadata": {
    "application/vnd.databricks.v1+cell": {
     "cellMetadata": {
      "byteLimit": 2048000,
      "rowLimit": 10000
     },
     "inputWidgets": {},
     "nuid": "a8de3ee6-03df-41cf-94db-d919698b581b",
     "showTitle": false,
     "title": ""
    }
   },
   "outputs": [
    {
     "output_type": "display_data",
     "data": {
      "text/html": [
       "<style scoped>\n",
       "  .ansiout {\n",
       "    display: block;\n",
       "    unicode-bidi: embed;\n",
       "    white-space: pre-wrap;\n",
       "    word-wrap: break-word;\n",
       "    word-break: break-all;\n",
       "    font-family: \"Menlo\", \"Monaco\", \"Consolas\", \"Ubuntu Mono\", \"Source Code Pro\", monospace;\n",
       "    font-size: 13px;\n",
       "    color: #555;\n",
       "    margin-left: 4px;\n",
       "    line-height: 19px;\n",
       "  }\n",
       "</style>\n",
       "<div class=\"ansiout\">+---------+---------------------+\n",
       "age_group|median_follower_count|\n",
       "+---------+---------------------+\n",
       "      +50|                 3000|\n",
       "    18-24|               130000|\n",
       "    25-35|                22000|\n",
       "    36-50|                 7000|\n",
       "+---------+---------------------+\n",
       "\n",
       "</div>"
      ]
     },
     "metadata": {
      "application/vnd.databricks.v1+output": {
       "addedWidgets": {},
       "arguments": {},
       "data": "<div class=\"ansiout\">+---------+---------------------+\n|age_group|median_follower_count|\n+---------+---------------------+\n|      +50|                 3000|\n|    18-24|               130000|\n|    25-35|                22000|\n|    36-50|                 7000|\n+---------+---------------------+\n\n</div>",
       "datasetInfos": [],
       "metadata": {},
       "removedWidgets": [],
       "type": "html"
      }
     },
     "output_type": "display_data"
    }
   ],
   "source": [
    "median_follower_count_for_different_age_groups = (\n",
    "    df_user.withColumn(\n",
    "        \"age_group\",\n",
    "        F.when(\n",
    "            (F.col(\"age\") >= 18) & (F.col(\"age\") <= 24), \"18-24\"\n",
    "        )\n",
    "        .when((F.col(\"age\") >= 25) & (F.col(\"age\") <= 35), \"25-35\")\n",
    "        .when((F.col(\"age\") >= 36) & (F.col(\"age\") <= 50), \"36-50\")\n",
    "        .otherwise(\"+50\")\n",
    "    )\n",
    "    .join(df_pin, \"ind\", \"inner\")\n",
    "    .select(\"age_group\", \"follower_count\")\n",
    "    .dropna(\"any\")\n",
    "    .withColumn(\n",
    "        \"rank\",\n",
    "        F.row_number().over(Window.partitionBy(\"age_group\").orderBy(F.asc(\"follower_count\")))\n",
    "    )\n",
    "    .withColumn(\n",
    "        \"total\",\n",
    "        F.count(\"age_group\").over(Window.partitionBy(\"age_group\"))\n",
    "    )\n",
    "    .filter(\n",
    "        (F.col(\"rank\") == F.col(\"total\")/2) | (F.col(\"rank\") == (F.col(\"total\") +1)/2)\n",
    "    )\n",
    "    .select(\"age_group\", \"follower_count\")\n",
    "    .withColumnRenamed(\"follower_count\", \"median_follower_count\")\n",
    ")\n",
    "\n",
    "median_follower_count_for_different_age_groups.show()"
   ]
  },
  {
   "cell_type": "markdown",
   "metadata": {
    "application/vnd.databricks.v1+cell": {
     "cellMetadata": {},
     "inputWidgets": {},
     "nuid": "52134877-37cb-4a2f-a016-cdd858fc4af2",
     "showTitle": false,
     "title": ""
    }
   },
   "source": [
    "## SQL"
   ]
  },
  {
   "cell_type": "code",
   "execution_count": 0,
   "metadata": {
    "application/vnd.databricks.v1+cell": {
     "cellMetadata": {
      "byteLimit": 2048000,
      "implicitDf": true,
      "rowLimit": 10000
     },
     "inputWidgets": {},
     "nuid": "b9679dec-b76a-4933-9a76-727cb5fca3e3",
     "showTitle": false,
     "title": ""
    }
   },
   "outputs": [
    {
     "output_type": "display_data",
     "data": {
      "text/html": [
       "<style scoped>\n",
       "  .table-result-container {\n",
       "    max-height: 300px;\n",
       "    overflow: auto;\n",
       "  }\n",
       "  table, th, td {\n",
       "    border: 1px solid black;\n",
       "    border-collapse: collapse;\n",
       "  }\n",
       "  th, td {\n",
       "    padding: 5px;\n",
       "  }\n",
       "  th {\n",
       "    text-align: left;\n",
       "  }\n",
       "</style><div class='table-result-container'><table class='table-result'><thead style='background-color: white'><tr><th>age_group</th><th>median_follower_count</th></tr></thead><tbody><tr><td>+50</td><td>3000</td></tr><tr><td>18-24</td><td>130000</td></tr><tr><td>25-35</td><td>22000</td></tr><tr><td>36-50</td><td>7000</td></tr></tbody></table></div>"
      ]
     },
     "metadata": {
      "application/vnd.databricks.v1+output": {
       "addedWidgets": {},
       "aggData": [],
       "aggError": "",
       "aggOverflow": false,
       "aggSchema": [],
       "aggSeriesLimitReached": false,
       "aggType": "",
       "arguments": {},
       "columnCustomDisplayInfos": {},
       "data": [
        [
         "+50",
         3000
        ],
        [
         "18-24",
         130000
        ],
        [
         "25-35",
         22000
        ],
        [
         "36-50",
         7000
        ]
       ],
       "datasetInfos": [],
       "dbfsResultPath": null,
       "isJsonSchema": true,
       "metadata": {},
       "overflow": false,
       "plotOptions": {
        "customPlotOptions": {},
        "displayType": "table",
        "pivotAggregation": null,
        "pivotColumns": null,
        "xColumns": null,
        "yColumns": null
       },
       "removedWidgets": [],
       "schema": [
        {
         "metadata": "{}",
         "name": "age_group",
         "type": "\"string\""
        },
        {
         "metadata": "{}",
         "name": "median_follower_count",
         "type": "\"integer\""
        }
       ],
       "type": "table"
      }
     },
     "output_type": "display_data"
    }
   ],
   "source": [
    "%sql\n",
    "WITH age_grouped AS (\n",
    "  SELECT \n",
    "    CASE \n",
    "      WHEN age BETWEEN 18 AND 24 THEN '18-24'\n",
    "      WHEN age BETWEEN 25 AND 35 THEN '25-35' \n",
    "      WHEN age BETWEEN 36 AND 50 THEN '36-50'\n",
    "      ELSE '+50'\n",
    "    END AS age_group,\n",
    "    p.follower_count\n",
    "  FROM view_user u\n",
    "  JOIN view_pin p ON u.ind = p.ind\n",
    "  WHERE p.follower_count IS NOT NULL\n",
    "),\n",
    "\n",
    "ranked_data AS (\n",
    "  SELECT age_group, follower_count,\n",
    "          row_number() OVER (PARTITION BY age_group ORDER BY follower_count ASC) AS rank,\n",
    "          COUNT(age_group) OVER (PARTITION BY age_group) AS total\n",
    "  FROM age_grouped\n",
    ")\n",
    "\n",
    "SELECT age_group, follower_count AS median_follower_count\n",
    "FROM ranked_data\n",
    "WHERE rank = total/2 OR rank = (total+1)/2"
   ]
  },
  {
   "cell_type": "markdown",
   "metadata": {
    "application/vnd.databricks.v1+cell": {
     "cellMetadata": {},
     "inputWidgets": {},
     "nuid": "a627642d-a925-482a-b898-067c7537903b",
     "showTitle": false,
     "title": ""
    }
   },
   "source": [
    "# Find how many users have joined each year?"
   ]
  },
  {
   "cell_type": "markdown",
   "metadata": {
    "application/vnd.databricks.v1+cell": {
     "cellMetadata": {},
     "inputWidgets": {},
     "nuid": "edeba863-1a9f-44b3-99ff-3de42d1ebc8b",
     "showTitle": false,
     "title": ""
    }
   },
   "source": [
    "## Spark"
   ]
  },
  {
   "cell_type": "code",
   "execution_count": 0,
   "metadata": {
    "application/vnd.databricks.v1+cell": {
     "cellMetadata": {
      "byteLimit": 2048000,
      "rowLimit": 10000
     },
     "inputWidgets": {},
     "nuid": "0e33ce55-95ef-4237-9d73-c0ce87d8db80",
     "showTitle": false,
     "title": ""
    }
   },
   "outputs": [
    {
     "output_type": "display_data",
     "data": {
      "text/html": [
       "<style scoped>\n",
       "  .table-result-container {\n",
       "    max-height: 300px;\n",
       "    overflow: auto;\n",
       "  }\n",
       "  table, th, td {\n",
       "    border: 1px solid black;\n",
       "    border-collapse: collapse;\n",
       "  }\n",
       "  th, td {\n",
       "    padding: 5px;\n",
       "  }\n",
       "  th {\n",
       "    text-align: left;\n",
       "  }\n",
       "</style><div class='table-result-container'><table class='table-result'><thead style='background-color: white'><tr><th>post_year</th><th>number_users_joined</th></tr></thead><tbody><tr><td>2015</td><td>796</td></tr><tr><td>2016</td><td>2643</td></tr><tr><td>2017</td><td>1642</td></tr></tbody></table></div>"
      ]
     },
     "metadata": {
      "application/vnd.databricks.v1+output": {
       "addedWidgets": {},
       "aggData": [],
       "aggError": "",
       "aggOverflow": false,
       "aggSchema": [],
       "aggSeriesLimitReached": false,
       "aggType": "",
       "arguments": {},
       "columnCustomDisplayInfos": {},
       "data": [
        [
         2015,
         796
        ],
        [
         2016,
         2643
        ],
        [
         2017,
         1642
        ]
       ],
       "datasetInfos": [],
       "dbfsResultPath": null,
       "isJsonSchema": true,
       "metadata": {},
       "overflow": false,
       "plotOptions": {
        "customPlotOptions": {},
        "displayType": "table",
        "pivotAggregation": null,
        "pivotColumns": null,
        "xColumns": null,
        "yColumns": null
       },
       "removedWidgets": [],
       "schema": [
        {
         "metadata": "{}",
         "name": "post_year",
         "type": "\"integer\""
        },
        {
         "metadata": "{}",
         "name": "number_users_joined",
         "type": "\"long\""
        }
       ],
       "type": "table"
      }
     },
     "output_type": "display_data"
    }
   ],
   "source": [
    "display(\n",
    "    df_user.dropDuplicates([\"user_name\"])\n",
    "    .withColumn(\"post_year\", F.year(F.col(\"date_joined\")))\n",
    "    .select(\"post_year\")\n",
    "    .groupBy(\"post_year\")\n",
    "    .agg(F.count(\"*\").alias(\"number_users_joined\"))\n",
    ")"
   ]
  },
  {
   "cell_type": "markdown",
   "metadata": {
    "application/vnd.databricks.v1+cell": {
     "cellMetadata": {
      "byteLimit": 2048000,
      "rowLimit": 10000
     },
     "inputWidgets": {},
     "nuid": "3e6fda72-7633-4805-b240-fee12d7e0f30",
     "showTitle": false,
     "title": ""
    }
   },
   "source": [
    "## SQL"
   ]
  },
  {
   "cell_type": "code",
   "execution_count": 0,
   "metadata": {
    "application/vnd.databricks.v1+cell": {
     "cellMetadata": {
      "byteLimit": 2048000,
      "implicitDf": true,
      "rowLimit": 10000
     },
     "inputWidgets": {},
     "nuid": "035fd4e5-49c7-4dee-a6d5-7935b5289046",
     "showTitle": false,
     "title": ""
    }
   },
   "outputs": [
    {
     "output_type": "display_data",
     "data": {
      "text/html": [
       "<style scoped>\n",
       "  .table-result-container {\n",
       "    max-height: 300px;\n",
       "    overflow: auto;\n",
       "  }\n",
       "  table, th, td {\n",
       "    border: 1px solid black;\n",
       "    border-collapse: collapse;\n",
       "  }\n",
       "  th, td {\n",
       "    padding: 5px;\n",
       "  }\n",
       "  th {\n",
       "    text-align: left;\n",
       "  }\n",
       "</style><div class='table-result-container'><table class='table-result'><thead style='background-color: white'><tr><th>post_year</th><th>number_users_joined</th></tr></thead><tbody><tr><td>2015</td><td>826</td></tr><tr><td>2016</td><td>2650</td></tr><tr><td>2017</td><td>1605</td></tr></tbody></table></div>"
      ]
     },
     "metadata": {
      "application/vnd.databricks.v1+output": {
       "addedWidgets": {},
       "aggData": [],
       "aggError": "",
       "aggOverflow": false,
       "aggSchema": [],
       "aggSeriesLimitReached": false,
       "aggType": "",
       "arguments": {},
       "columnCustomDisplayInfos": {},
       "data": [
        [
         2015,
         826
        ],
        [
         2016,
         2650
        ],
        [
         2017,
         1605
        ]
       ],
       "datasetInfos": [],
       "dbfsResultPath": null,
       "isJsonSchema": true,
       "metadata": {},
       "overflow": false,
       "plotOptions": {
        "customPlotOptions": {},
        "displayType": "table",
        "pivotAggregation": null,
        "pivotColumns": null,
        "xColumns": null,
        "yColumns": null
       },
       "removedWidgets": [],
       "schema": [
        {
         "metadata": "{}",
         "name": "post_year",
         "type": "\"integer\""
        },
        {
         "metadata": "{}",
         "name": "number_users_joined",
         "type": "\"long\""
        }
       ],
       "type": "table"
      }
     },
     "output_type": "display_data"
    }
   ],
   "source": [
    "%sql\n",
    "WITH distinct_users AS(\n",
    "  SELECT *\n",
    "  FROM (\n",
    "    SELECT *,\n",
    "          row_number() OVER (PARTITION BY user_name ORDER BY date_joined ASC) AS rank\n",
    "    FROM view_user\n",
    "  )\n",
    "  WHERE rank = 1\n",
    "),\n",
    "\n",
    "year_table AS (\n",
    "  SELECT YEAR(date_joined) as post_year,\n",
    "          COUNT(*) AS number_users_joined\n",
    "  FROM distinct_users\n",
    "  GROUP BY post_year\n",
    ")\n",
    "\n",
    "SELECT * FROM year_table"
   ]
  },
  {
   "cell_type": "markdown",
   "metadata": {
    "application/vnd.databricks.v1+cell": {
     "cellMetadata": {},
     "inputWidgets": {},
     "nuid": "76832395-d328-490a-a3ed-533454699451",
     "showTitle": false,
     "title": ""
    }
   },
   "source": [
    "# Find the median follower count of users based on their joining year"
   ]
  },
  {
   "cell_type": "markdown",
   "metadata": {
    "application/vnd.databricks.v1+cell": {
     "cellMetadata": {},
     "inputWidgets": {},
     "nuid": "f7ae8ba5-72af-47b2-8c4b-8b0eb2413746",
     "showTitle": false,
     "title": ""
    }
   },
   "source": [
    "## Spark"
   ]
  },
  {
   "cell_type": "code",
   "execution_count": 0,
   "metadata": {
    "application/vnd.databricks.v1+cell": {
     "cellMetadata": {
      "byteLimit": 2048000,
      "rowLimit": 10000
     },
     "inputWidgets": {},
     "nuid": "b9954bc0-43e7-40e6-8a4a-12d6894ee5a3",
     "showTitle": false,
     "title": ""
    }
   },
   "outputs": [
    {
     "output_type": "display_data",
     "data": {
      "text/html": [
       "<style scoped>\n",
       "  .table-result-container {\n",
       "    max-height: 300px;\n",
       "    overflow: auto;\n",
       "  }\n",
       "  table, th, td {\n",
       "    border: 1px solid black;\n",
       "    border-collapse: collapse;\n",
       "  }\n",
       "  th, td {\n",
       "    padding: 5px;\n",
       "  }\n",
       "  th {\n",
       "    text-align: left;\n",
       "  }\n",
       "</style><div class='table-result-container'><table class='table-result'><thead style='background-color: white'><tr><th>post_year</th><th>median_follower_count</th></tr></thead><tbody><tr><td>2015</td><td>160000</td></tr><tr><td>2016</td><td>20000</td></tr><tr><td>2017</td><td>4000</td></tr></tbody></table></div>"
      ]
     },
     "metadata": {
      "application/vnd.databricks.v1+output": {
       "addedWidgets": {},
       "aggData": [],
       "aggError": "",
       "aggOverflow": false,
       "aggSchema": [],
       "aggSeriesLimitReached": false,
       "aggType": "",
       "arguments": {},
       "columnCustomDisplayInfos": {},
       "data": [
        [
         2015,
         160000
        ],
        [
         2016,
         20000
        ],
        [
         2017,
         4000
        ]
       ],
       "datasetInfos": [],
       "dbfsResultPath": null,
       "isJsonSchema": true,
       "metadata": {},
       "overflow": false,
       "plotOptions": {
        "customPlotOptions": {},
        "displayType": "table",
        "pivotAggregation": null,
        "pivotColumns": null,
        "xColumns": null,
        "yColumns": null
       },
       "removedWidgets": [],
       "schema": [
        {
         "metadata": "{}",
         "name": "post_year",
         "type": "\"integer\""
        },
        {
         "metadata": "{}",
         "name": "median_follower_count",
         "type": "\"integer\""
        }
       ],
       "type": "table"
      }
     },
     "output_type": "display_data"
    }
   ],
   "source": [
    "median_follower_count_each_year = (\n",
    "    df_pin.join(df_user, \"ind\", \"inner\")\n",
    "    .withColumn(\"post_year\", F.year(F.col(\"date_joined\")))\n",
    "    .select(\"post_year\", \"follower_count\")\n",
    "    .dropna(\"any\")\n",
    "    .withColumn(\n",
    "        \"rank\",\n",
    "        F.row_number().over(Window.partitionBy(\"post_year\").orderBy(F.asc(\"follower_count\")))\n",
    "    )\n",
    "    .withColumn(\n",
    "        \"total\",\n",
    "        F.count(\"follower_count\").over(Window.partitionBy(\"post_year\"))\n",
    "    )\n",
    "    .filter(\n",
    "        (F.col(\"rank\") == F.col(\"total\")/2) | (F.col(\"rank\") == (F.col(\"total\")+1)/2)\n",
    "    )\n",
    "    .select(\"post_year\", \"follower_count\")\n",
    "    .withColumnRenamed(\"follower_count\", \"median_follower_count\")\n",
    ")\n",
    "\n",
    "display(median_follower_count_each_year)"
   ]
  },
  {
   "cell_type": "markdown",
   "metadata": {
    "application/vnd.databricks.v1+cell": {
     "cellMetadata": {},
     "inputWidgets": {},
     "nuid": "d68c9692-df7a-4fbb-b6f0-6189fd9ef6f8",
     "showTitle": false,
     "title": ""
    }
   },
   "source": [
    "## SQL"
   ]
  },
  {
   "cell_type": "code",
   "execution_count": 0,
   "metadata": {
    "application/vnd.databricks.v1+cell": {
     "cellMetadata": {
      "byteLimit": 2048000,
      "implicitDf": true,
      "rowLimit": 10000
     },
     "inputWidgets": {},
     "nuid": "8e7698c2-cc25-49ca-bc86-c50657c0fe08",
     "showTitle": false,
     "title": ""
    }
   },
   "outputs": [
    {
     "output_type": "display_data",
     "data": {
      "text/html": [
       "<style scoped>\n",
       "  .table-result-container {\n",
       "    max-height: 300px;\n",
       "    overflow: auto;\n",
       "  }\n",
       "  table, th, td {\n",
       "    border: 1px solid black;\n",
       "    border-collapse: collapse;\n",
       "  }\n",
       "  th, td {\n",
       "    padding: 5px;\n",
       "  }\n",
       "  th {\n",
       "    text-align: left;\n",
       "  }\n",
       "</style><div class='table-result-container'><table class='table-result'><thead style='background-color: white'><tr><th>post_year</th><th>median_follower_count</th></tr></thead><tbody><tr><td>2015</td><td>160000</td></tr><tr><td>2016</td><td>20000</td></tr><tr><td>2017</td><td>4000</td></tr></tbody></table></div>"
      ]
     },
     "metadata": {
      "application/vnd.databricks.v1+output": {
       "addedWidgets": {},
       "aggData": [],
       "aggError": "",
       "aggOverflow": false,
       "aggSchema": [],
       "aggSeriesLimitReached": false,
       "aggType": "",
       "arguments": {},
       "columnCustomDisplayInfos": {},
       "data": [
        [
         2015,
         160000
        ],
        [
         2016,
         20000
        ],
        [
         2017,
         4000
        ]
       ],
       "datasetInfos": [],
       "dbfsResultPath": null,
       "isJsonSchema": true,
       "metadata": {},
       "overflow": false,
       "plotOptions": {
        "customPlotOptions": {},
        "displayType": "table",
        "pivotAggregation": null,
        "pivotColumns": null,
        "xColumns": null,
        "yColumns": null
       },
       "removedWidgets": [],
       "schema": [
        {
         "metadata": "{}",
         "name": "post_year",
         "type": "\"integer\""
        },
        {
         "metadata": "{}",
         "name": "median_follower_count",
         "type": "\"integer\""
        }
       ],
       "type": "table"
      }
     },
     "output_type": "display_data"
    }
   ],
   "source": [
    "%sql\n",
    "WITH joined_table AS (\n",
    "  SELECT YEAR(date_joined) AS post_year,\n",
    "          follower_count\n",
    "  FROM view_pin p\n",
    "  INNER JOIN view_user u\n",
    "  ON p.ind = u.ind\n",
    "  WHERE follower_count IS NOT NULL\n",
    "),\n",
    "\n",
    "rank_total_table AS (\n",
    "  SELECT *,\n",
    "          row_number() OVER (PARTITION BY post_year ORDER BY follower_count ASC) AS rank,\n",
    "          COUNT(follower_count) OVER (PARTITION BY post_year) AS total\n",
    "  FROM joined_table \n",
    ")\n",
    "\n",
    "SELECT post_year, follower_count AS median_follower_count\n",
    "FROM rank_total_table\n",
    "WHERE rank=total/2 OR rank=(total+1)/2"
   ]
  },
  {
   "cell_type": "markdown",
   "metadata": {
    "application/vnd.databricks.v1+cell": {
     "cellMetadata": {},
     "inputWidgets": {},
     "nuid": "efa304fa-9c4e-4809-8fde-0252ffa75225",
     "showTitle": false,
     "title": ""
    }
   },
   "source": [
    "# Find the median follower count of users based on their joining year and age group"
   ]
  },
  {
   "cell_type": "markdown",
   "metadata": {
    "application/vnd.databricks.v1+cell": {
     "cellMetadata": {},
     "inputWidgets": {},
     "nuid": "1fdb0985-7f30-4e21-9e8d-62e79109bac1",
     "showTitle": false,
     "title": ""
    }
   },
   "source": [
    "## Spark"
   ]
  },
  {
   "cell_type": "code",
   "execution_count": 0,
   "metadata": {
    "application/vnd.databricks.v1+cell": {
     "cellMetadata": {
      "byteLimit": 2048000,
      "rowLimit": 10000
     },
     "inputWidgets": {},
     "nuid": "80e7126d-b3ae-47c0-9368-0f3b18743841",
     "showTitle": false,
     "title": ""
    }
   },
   "outputs": [
    {
     "output_type": "display_data",
     "data": {
      "text/html": [
       "<style scoped>\n",
       "  .table-result-container {\n",
       "    max-height: 300px;\n",
       "    overflow: auto;\n",
       "  }\n",
       "  table, th, td {\n",
       "    border: 1px solid black;\n",
       "    border-collapse: collapse;\n",
       "  }\n",
       "  th, td {\n",
       "    padding: 5px;\n",
       "  }\n",
       "  th {\n",
       "    text-align: left;\n",
       "  }\n",
       "</style><div class='table-result-container'><table class='table-result'><thead style='background-color: white'><tr><th>post_year</th><th>age_group</th><th>median_follower_count</th></tr></thead><tbody><tr><td>2015</td><td>+50</td><td>11000</td></tr><tr><td>2015</td><td>18-24</td><td>375000</td></tr><tr><td>2015</td><td>25-35</td><td>37000</td></tr><tr><td>2015</td><td>36-50</td><td>22000</td></tr><tr><td>2016</td><td>+50</td><td>3000</td></tr><tr><td>2016</td><td>18-24</td><td>46000</td></tr><tr><td>2016</td><td>25-35</td><td>24000</td></tr><tr><td>2016</td><td>36-50</td><td>9000</td></tr><tr><td>2017</td><td>+50</td><td>3000</td></tr><tr><td>2017</td><td>18-24</td><td>7000</td></tr><tr><td>2017</td><td>25-35</td><td>4000</td></tr><tr><td>2017</td><td>36-50</td><td>3000</td></tr></tbody></table></div>"
      ]
     },
     "metadata": {
      "application/vnd.databricks.v1+output": {
       "addedWidgets": {},
       "aggData": [],
       "aggError": "",
       "aggOverflow": false,
       "aggSchema": [],
       "aggSeriesLimitReached": false,
       "aggType": "",
       "arguments": {},
       "columnCustomDisplayInfos": {},
       "data": [
        [
         2015,
         "+50",
         11000
        ],
        [
         2015,
         "18-24",
         375000
        ],
        [
         2015,
         "25-35",
         37000
        ],
        [
         2015,
         "36-50",
         22000
        ],
        [
         2016,
         "+50",
         3000
        ],
        [
         2016,
         "18-24",
         46000
        ],
        [
         2016,
         "25-35",
         24000
        ],
        [
         2016,
         "36-50",
         9000
        ],
        [
         2017,
         "+50",
         3000
        ],
        [
         2017,
         "18-24",
         7000
        ],
        [
         2017,
         "25-35",
         4000
        ],
        [
         2017,
         "36-50",
         3000
        ]
       ],
       "datasetInfos": [],
       "dbfsResultPath": null,
       "isJsonSchema": true,
       "metadata": {},
       "overflow": false,
       "plotOptions": {
        "customPlotOptions": {},
        "displayType": "table",
        "pivotAggregation": null,
        "pivotColumns": null,
        "xColumns": null,
        "yColumns": null
       },
       "removedWidgets": [],
       "schema": [
        {
         "metadata": "{}",
         "name": "post_year",
         "type": "\"integer\""
        },
        {
         "metadata": "{}",
         "name": "age_group",
         "type": "\"string\""
        },
        {
         "metadata": "{}",
         "name": "median_follower_count",
         "type": "\"integer\""
        }
       ],
       "type": "table"
      }
     },
     "output_type": "display_data"
    }
   ],
   "source": [
    "display(\n",
    "    df_user.withColumn(\n",
    "        \"age_group\",\n",
    "        F.when(\n",
    "            (F.col(\"age\") >= 18) & (F.col(\"age\") <= 24), \"18-24\"\n",
    "        )\n",
    "        .when((F.col(\"age\") >= 25) & (F.col(\"age\") <= 35), \"25-35\")\n",
    "        .when((F.col(\"age\") >= 36) & (F.col(\"age\") <= 50), \"36-50\")\n",
    "        .otherwise(\"+50\")\n",
    "    )\n",
    "    .withColumn(\n",
    "        \"post_year\",\n",
    "        F.year(F.col(\"date_joined\"))\n",
    "    )\n",
    "    .join(df_pin, \"ind\", \"inner\")\n",
    "    .dropna(\"any\", subset=[\"follower_count\"])\n",
    "    .select(\"post_year\", \"age_group\", \"follower_count\")\n",
    "    .withColumn(\n",
    "        \"rank\",\n",
    "        F.row_number().over(Window.partitionBy(\"post_year\", \"age_group\").orderBy(\"follower_count\"))\n",
    "    )\n",
    "    .withColumn(\n",
    "        \"total\",\n",
    "        F.count(\"follower_count\").over(Window.partitionBy(\"post_year\", \"age_group\"))\n",
    "    )\n",
    "    .filter(\n",
    "        (F.col(\"rank\") == F.col(\"total\")/2) | (F.col(\"rank\") == (F.col(\"total\")+1)/2)\n",
    "    )\n",
    "    .select(\"post_year\", \"age_group\", \"follower_count\")\n",
    "    .withColumnRenamed(\"follower_count\", \"median_follower_count\")\n",
    ")"
   ]
  },
  {
   "cell_type": "markdown",
   "metadata": {
    "application/vnd.databricks.v1+cell": {
     "cellMetadata": {},
     "inputWidgets": {},
     "nuid": "a7adc17b-55e4-471f-af4f-1c264eae3650",
     "showTitle": false,
     "title": ""
    }
   },
   "source": [
    "## SQL"
   ]
  },
  {
   "cell_type": "code",
   "execution_count": 0,
   "metadata": {
    "application/vnd.databricks.v1+cell": {
     "cellMetadata": {
      "byteLimit": 2048000,
      "implicitDf": true,
      "rowLimit": 10000
     },
     "inputWidgets": {},
     "nuid": "d6cdd415-c8a8-4600-aadc-76cc45f77dcd",
     "showTitle": false,
     "title": ""
    }
   },
   "outputs": [
    {
     "output_type": "display_data",
     "data": {
      "text/html": [
       "<style scoped>\n",
       "  .table-result-container {\n",
       "    max-height: 300px;\n",
       "    overflow: auto;\n",
       "  }\n",
       "  table, th, td {\n",
       "    border: 1px solid black;\n",
       "    border-collapse: collapse;\n",
       "  }\n",
       "  th, td {\n",
       "    padding: 5px;\n",
       "  }\n",
       "  th {\n",
       "    text-align: left;\n",
       "  }\n",
       "</style><div class='table-result-container'><table class='table-result'><thead style='background-color: white'><tr><th>post_year</th><th>age_group</th><th>median_follower_count</th></tr></thead><tbody><tr><td>2015</td><td>+50</td><td>11000</td></tr><tr><td>2015</td><td>18-24</td><td>375000</td></tr><tr><td>2015</td><td>25-35</td><td>37000</td></tr><tr><td>2015</td><td>36-50</td><td>22000</td></tr><tr><td>2016</td><td>+50</td><td>3000</td></tr><tr><td>2016</td><td>18-24</td><td>46000</td></tr><tr><td>2016</td><td>25-35</td><td>24000</td></tr><tr><td>2016</td><td>36-50</td><td>9000</td></tr><tr><td>2017</td><td>+50</td><td>3000</td></tr><tr><td>2017</td><td>18-24</td><td>7000</td></tr><tr><td>2017</td><td>25-35</td><td>4000</td></tr><tr><td>2017</td><td>36-50</td><td>3000</td></tr></tbody></table></div>"
      ]
     },
     "metadata": {
      "application/vnd.databricks.v1+output": {
       "addedWidgets": {},
       "aggData": [],
       "aggError": "",
       "aggOverflow": false,
       "aggSchema": [],
       "aggSeriesLimitReached": false,
       "aggType": "",
       "arguments": {},
       "columnCustomDisplayInfos": {},
       "data": [
        [
         2015,
         "+50",
         11000
        ],
        [
         2015,
         "18-24",
         375000
        ],
        [
         2015,
         "25-35",
         37000
        ],
        [
         2015,
         "36-50",
         22000
        ],
        [
         2016,
         "+50",
         3000
        ],
        [
         2016,
         "18-24",
         46000
        ],
        [
         2016,
         "25-35",
         24000
        ],
        [
         2016,
         "36-50",
         9000
        ],
        [
         2017,
         "+50",
         3000
        ],
        [
         2017,
         "18-24",
         7000
        ],
        [
         2017,
         "25-35",
         4000
        ],
        [
         2017,
         "36-50",
         3000
        ]
       ],
       "datasetInfos": [],
       "dbfsResultPath": null,
       "isJsonSchema": true,
       "metadata": {},
       "overflow": false,
       "plotOptions": {
        "customPlotOptions": {},
        "displayType": "table",
        "pivotAggregation": null,
        "pivotColumns": null,
        "xColumns": null,
        "yColumns": null
       },
       "removedWidgets": [],
       "schema": [
        {
         "metadata": "{}",
         "name": "post_year",
         "type": "\"integer\""
        },
        {
         "metadata": "{}",
         "name": "age_group",
         "type": "\"string\""
        },
        {
         "metadata": "{}",
         "name": "median_follower_count",
         "type": "\"integer\""
        }
       ],
       "type": "table"
      }
     },
     "output_type": "display_data"
    }
   ],
   "source": [
    "%sql\n",
    "WITH age_grouped AS (\n",
    "  SELECT *,\n",
    "        CASE \n",
    "          WHEN age BETWEEN 18 AND 24 THEN '18-24'\n",
    "          WHEN age BETWEEN 25 AND 35 THEN '25-35'\n",
    "          WHEN age BETWEEN 36 AND 50 THEN '36-50'\n",
    "          ELSE '+50'\n",
    "        END AS age_group,\n",
    "        YEAR(date_joined) AS post_year\n",
    "  FROM view_user u\n",
    "  INNER JOIN view_pin p\n",
    "  ON u.ind = p.ind\n",
    "  WHERE follower_count IS NOT NULL\n",
    "),\n",
    "\n",
    "ranked_total_data AS (\n",
    "  SELECT *,\n",
    "        row_number() OVER (PARTITION BY post_year, age_group ORDER BY follower_count ASC) AS rank,\n",
    "        COUNT(follower_count) OVER (PARTITION BY post_year, age_group) AS total\n",
    "  FROM age_grouped\n",
    ")\n",
    "\n",
    "SELECT post_year, age_group, follower_count AS median_follower_count\n",
    "FROM ranked_total_data\n",
    "WHERE rank = total/2 OR rank = (total+1)/2"
   ]
  },
  {
   "cell_type": "code",
   "execution_count": 0,
   "metadata": {
    "application/vnd.databricks.v1+cell": {
     "cellMetadata": {},
     "inputWidgets": {},
     "nuid": "5609a662-6644-4b16-b3bd-f3fb463456ba",
     "showTitle": false,
     "title": ""
    }
   },
   "outputs": [],
   "source": []
  }
 ],
 "metadata": {
  "application/vnd.databricks.v1+notebook": {
   "dashboards": [],
   "language": "python",
   "notebookMetadata": {
    "mostRecentlyExecutedCommandWithImplicitDF": {
     "commandId": 245929634102874,
     "dataframes": [
      "_sqldf"
     ]
    },
    "pythonIndentUnit": 4
   },
   "notebookName": "Queries",
   "widgets": {}
  }
 },
 "nbformat": 4,
 "nbformat_minor": 0
}
