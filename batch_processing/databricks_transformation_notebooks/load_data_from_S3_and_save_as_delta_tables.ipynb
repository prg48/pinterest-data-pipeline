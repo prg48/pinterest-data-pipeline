{
 "cells": [
  {
   "cell_type": "markdown",
   "metadata": {
    "application/vnd.databricks.v1+cell": {
     "cellMetadata": {},
     "inputWidgets": {},
     "nuid": "fbcab718-8db1-45e0-a585-5874dc93bcc0",
     "showTitle": false,
     "title": ""
    }
   },
   "source": [
    "# Load geolocation, pinterest and user data from 'topics' in S3 "
   ]
  },
  {
   "cell_type": "code",
   "execution_count": null,
   "metadata": {
    "application/vnd.databricks.v1+cell": {
     "cellMetadata": {
      "byteLimit": 2048000,
      "rowLimit": 10000
     },
     "inputWidgets": {},
     "nuid": "e9a7a5e7-7e44-4fb2-b620-5160c01ecec1",
     "showTitle": false,
     "title": ""
    }
   },
   "outputs": [
    {
     "data": {
      "text/html": [
       "<style scoped>\n",
       "  .ansiout {\n",
       "    display: block;\n",
       "    unicode-bidi: embed;\n",
       "    white-space: pre-wrap;\n",
       "    word-wrap: break-word;\n",
       "    word-break: break-all;\n",
       "    font-family: \"Menlo\", \"Monaco\", \"Consolas\", \"Ubuntu Mono\", \"Source Code Pro\", monospace;\n",
       "    font-size: 13px;\n",
       "    color: #555;\n",
       "    margin-left: 4px;\n",
       "    line-height: 19px;\n",
       "  }\n",
       "</style>\n",
       "<div class=\"ansiout\"></div>"
      ]
     },
     "metadata": {
      "application/vnd.databricks.v1+output": {
       "addedWidgets": {},
       "arguments": {},
       "data": "<div class=\"ansiout\"></div>",
       "datasetInfos": [],
       "metadata": {},
       "removedWidgets": [],
       "type": "html"
      }
     },
     "output_type": "display_data"
    }
   ],
   "source": [
    "geo_file_location = \"/mnt/pinterest_data/topics/0e3bbd435bfb.geo/partition=0/*.json\"\n",
    "pin_file_location = \"/mnt/pinterest_data/topics/0e3bbd435bfb.pin/partition=0/*.json\"\n",
    "user_file_location = \"/mnt/pinterest_data/topics/0e3bbd435bfb.user/partition=0/*.json\"\n",
    "file_type = \"json\"\n",
    "infer_schema = \"true\"\n",
    "\n",
    "# load geolocation dataframe\n",
    "df_geo = spark.read.format(file_type)\\\n",
    "    .option(\"inferSchema\", infer_schema)\\\n",
    "    .load(geo_file_location)\n",
    "\n",
    "# load pinterest dataframe\n",
    "df_pin = spark.read.format(file_type)\\\n",
    "    .option(\"inferschema\", infer_schema)\\\n",
    "    .load(pin_file_location)\n",
    "\n",
    "# load user dataframe\n",
    "df_user = spark.read.format(file_type)\\\n",
    "    .option(\"inferschema\", infer_schema)\\\n",
    "    .load(user_file_location) "
   ]
  },
  {
   "cell_type": "markdown",
   "metadata": {
    "application/vnd.databricks.v1+cell": {
     "cellMetadata": {},
     "inputWidgets": {},
     "nuid": "f79b6a64-db74-49ec-ad57-ef3f5f45626c",
     "showTitle": false,
     "title": ""
    }
   },
   "source": [
    "# Save dataframes as delta tables for faster reading"
   ]
  },
  {
   "cell_type": "code",
   "execution_count": null,
   "metadata": {
    "application/vnd.databricks.v1+cell": {
     "cellMetadata": {
      "byteLimit": 2048000,
      "rowLimit": 10000
     },
     "inputWidgets": {},
     "nuid": "ee07c830-002f-4c82-a6be-969e2a7c9221",
     "showTitle": false,
     "title": ""
    }
   },
   "outputs": [
    {
     "data": {
      "text/html": [
       "<style scoped>\n",
       "  .ansiout {\n",
       "    display: block;\n",
       "    unicode-bidi: embed;\n",
       "    white-space: pre-wrap;\n",
       "    word-wrap: break-word;\n",
       "    word-break: break-all;\n",
       "    font-family: \"Menlo\", \"Monaco\", \"Consolas\", \"Ubuntu Mono\", \"Source Code Pro\", monospace;\n",
       "    font-size: 13px;\n",
       "    color: #555;\n",
       "    margin-left: 4px;\n",
       "    line-height: 19px;\n",
       "  }\n",
       "</style>\n",
       "<div class=\"ansiout\"></div>"
      ]
     },
     "metadata": {
      "application/vnd.databricks.v1+output": {
       "addedWidgets": {},
       "arguments": {},
       "data": "<div class=\"ansiout\"></div>",
       "datasetInfos": [],
       "metadata": {},
       "removedWidgets": [],
       "type": "html"
      }
     },
     "output_type": "display_data"
    }
   ],
   "source": [
    "# delta table paths for geo_df, pin_df and user_df\n",
    "delta_base_path = \"/mnt/pinterest_data/delta_tables/\"\n",
    "\n",
    "# Paths for raw/original data\n",
    "raw_delta_geo_path = delta_base_path + \"raw/geo\"\n",
    "raw_delta_pin_path = delta_base_path + \"raw/pin\"\n",
    "raw_delta_user_path = delta_base_path + \"raw/user\""
   ]
  },
  {
   "cell_type": "code",
   "execution_count": null,
   "metadata": {
    "application/vnd.databricks.v1+cell": {
     "cellMetadata": {
      "byteLimit": 2048000,
      "rowLimit": 10000
     },
     "inputWidgets": {},
     "nuid": "57da9067-c3fe-49e1-bb28-170968773848",
     "showTitle": false,
     "title": ""
    }
   },
   "outputs": [
    {
     "data": {
      "text/html": [
       "<style scoped>\n",
       "  .ansiout {\n",
       "    display: block;\n",
       "    unicode-bidi: embed;\n",
       "    white-space: pre-wrap;\n",
       "    word-wrap: break-word;\n",
       "    word-break: break-all;\n",
       "    font-family: \"Menlo\", \"Monaco\", \"Consolas\", \"Ubuntu Mono\", \"Source Code Pro\", monospace;\n",
       "    font-size: 13px;\n",
       "    color: #555;\n",
       "    margin-left: 4px;\n",
       "    line-height: 19px;\n",
       "  }\n",
       "</style>\n",
       "<div class=\"ansiout\"></div>"
      ]
     },
     "metadata": {
      "application/vnd.databricks.v1+output": {
       "addedWidgets": {},
       "arguments": {},
       "data": "<div class=\"ansiout\"></div>",
       "datasetInfos": [],
       "metadata": {},
       "removedWidgets": [],
       "type": "html"
      }
     },
     "output_type": "display_data"
    }
   ],
   "source": [
    "# save dataframes as raw delta table paths\n",
    "df_geo.write.format(\"delta\").mode(\"overwrite\").save(raw_delta_geo_path)\n",
    "df_pin.write.format(\"delta\").mode(\"overwrite\").save(raw_delta_pin_path)\n",
    "df_user.write.format(\"delta\").mode(\"overwrite\").save(raw_delta_user_path)"
   ]
  }
 ],
 "metadata": {
  "application/vnd.databricks.v1+notebook": {
   "dashboards": [],
   "language": "python",
   "notebookMetadata": {
    "pythonIndentUnit": 4
   },
   "notebookName": "load_data_from_S3_and_save_as_delta_tables",
   "widgets": {}
  },
  "language_info": {
   "name": "python"
  }
 },
 "nbformat": 4,
 "nbformat_minor": 0
}
