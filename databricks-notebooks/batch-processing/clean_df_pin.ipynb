{
 "cells": [
  {
   "cell_type": "markdown",
   "metadata": {
    "application/vnd.databricks.v1+cell": {
     "cellMetadata": {
      "byteLimit": 2048000,
      "rowLimit": 10000
     },
     "inputWidgets": {},
     "nuid": "38eda836-e17f-4725-bdd5-552b39c1e667",
     "showTitle": false,
     "title": ""
    }
   },
   "source": [
    "# Load geolocation, user and pinterest data frames from delta tables"
   ]
  },
  {
   "cell_type": "code",
   "execution_count": null,
   "metadata": {
    "application/vnd.databricks.v1+cell": {
     "cellMetadata": {
      "byteLimit": 2048000,
      "rowLimit": 10000
     },
     "inputWidgets": {},
     "nuid": "3e065e85-5efb-4a84-b91c-ccda5ccff1a8",
     "showTitle": false,
     "title": ""
    }
   },
   "outputs": [
    {
     "data": {
      "text/html": [
       "<style scoped>\n",
       "  .ansiout {\n",
       "    display: block;\n",
       "    unicode-bidi: embed;\n",
       "    white-space: pre-wrap;\n",
       "    word-wrap: break-word;\n",
       "    word-break: break-all;\n",
       "    font-family: \"Menlo\", \"Monaco\", \"Consolas\", \"Ubuntu Mono\", \"Source Code Pro\", monospace;\n",
       "    font-size: 13px;\n",
       "    color: #555;\n",
       "    margin-left: 4px;\n",
       "    line-height: 19px;\n",
       "  }\n",
       "</style>\n",
       "<div class=\"ansiout\"></div>"
      ]
     },
     "metadata": {
      "application/vnd.databricks.v1+output": {
       "addedWidgets": {},
       "arguments": {},
       "data": "<div class=\"ansiout\"></div>",
       "datasetInfos": [],
       "metadata": {},
       "removedWidgets": [],
       "type": "html"
      }
     },
     "output_type": "display_data"
    }
   ],
   "source": [
    "import pyspark.sql.functions as F\n",
    "from pyspark.sql.types import StringType"
   ]
  },
  {
   "cell_type": "code",
   "execution_count": null,
   "metadata": {
    "application/vnd.databricks.v1+cell": {
     "cellMetadata": {
      "byteLimit": 2048000,
      "rowLimit": 10000
     },
     "inputWidgets": {},
     "nuid": "ff012f25-e185-4f92-9fa2-ceb7b6e3f357",
     "showTitle": false,
     "title": ""
    }
   },
   "outputs": [
    {
     "data": {
      "text/html": [
       "<style scoped>\n",
       "  .ansiout {\n",
       "    display: block;\n",
       "    unicode-bidi: embed;\n",
       "    white-space: pre-wrap;\n",
       "    word-wrap: break-word;\n",
       "    word-break: break-all;\n",
       "    font-family: \"Menlo\", \"Monaco\", \"Consolas\", \"Ubuntu Mono\", \"Source Code Pro\", monospace;\n",
       "    font-size: 13px;\n",
       "    color: #555;\n",
       "    margin-left: 4px;\n",
       "    line-height: 19px;\n",
       "  }\n",
       "</style>\n",
       "<div class=\"ansiout\"></div>"
      ]
     },
     "metadata": {
      "application/vnd.databricks.v1+output": {
       "addedWidgets": {},
       "arguments": {},
       "data": "<div class=\"ansiout\"></div>",
       "datasetInfos": [],
       "metadata": {},
       "removedWidgets": [],
       "type": "html"
      }
     },
     "output_type": "display_data"
    }
   ],
   "source": [
    "# delta table paths for geo_df, pin_df and user_df\n",
    "delta_base_path = \"/mnt/pinterest_data/delta_tables/\"\n",
    "\n",
    "# Paths for raw/original data\n",
    "raw_delta_pin_path = delta_base_path + \"raw/pin\"\n",
    "\n",
    "# Paths for transformed/processed data\n",
    "transformed_delta_pin_path = delta_base_path + \"transformed/pin\""
   ]
  },
  {
   "cell_type": "code",
   "execution_count": null,
   "metadata": {
    "application/vnd.databricks.v1+cell": {
     "cellMetadata": {
      "byteLimit": 2048000,
      "rowLimit": 10000
     },
     "inputWidgets": {},
     "nuid": "ae376040-b79e-43d6-b71f-2c8de9d21b93",
     "showTitle": false,
     "title": ""
    }
   },
   "outputs": [
    {
     "data": {
      "text/html": [
       "<style scoped>\n",
       "  .ansiout {\n",
       "    display: block;\n",
       "    unicode-bidi: embed;\n",
       "    white-space: pre-wrap;\n",
       "    word-wrap: break-word;\n",
       "    word-break: break-all;\n",
       "    font-family: \"Menlo\", \"Monaco\", \"Consolas\", \"Ubuntu Mono\", \"Source Code Pro\", monospace;\n",
       "    font-size: 13px;\n",
       "    color: #555;\n",
       "    margin-left: 4px;\n",
       "    line-height: 19px;\n",
       "  }\n",
       "</style>\n",
       "<div class=\"ansiout\"></div>"
      ]
     },
     "metadata": {
      "application/vnd.databricks.v1+output": {
       "addedWidgets": {},
       "arguments": {},
       "data": "<div class=\"ansiout\"></div>",
       "datasetInfos": [],
       "metadata": {},
       "removedWidgets": [],
       "type": "html"
      }
     },
     "output_type": "display_data"
    }
   ],
   "source": [
    "# Read the delta tables\n",
    "df_pin = spark.read.format(\"delta\").load(raw_delta_pin_path)"
   ]
  },
  {
   "cell_type": "markdown",
   "metadata": {
    "application/vnd.databricks.v1+cell": {
     "cellMetadata": {},
     "inputWidgets": {},
     "nuid": "56afd91e-3b1b-42b3-8f50-a8a159724d56",
     "showTitle": false,
     "title": ""
    }
   },
   "source": [
    "# Transformations"
   ]
  },
  {
   "cell_type": "code",
   "execution_count": null,
   "metadata": {
    "application/vnd.databricks.v1+cell": {
     "cellMetadata": {
      "byteLimit": 2048000,
      "rowLimit": 10000
     },
     "inputWidgets": {},
     "nuid": "5f589431-555d-4ed7-8412-de1e5c45b3f6",
     "showTitle": false,
     "title": ""
    }
   },
   "outputs": [
    {
     "data": {
      "text/html": [
       "<style scoped>\n",
       "  .ansiout {\n",
       "    display: block;\n",
       "    unicode-bidi: embed;\n",
       "    white-space: pre-wrap;\n",
       "    word-wrap: break-word;\n",
       "    word-break: break-all;\n",
       "    font-family: \"Menlo\", \"Monaco\", \"Consolas\", \"Ubuntu Mono\", \"Source Code Pro\", monospace;\n",
       "    font-size: 13px;\n",
       "    color: #555;\n",
       "    margin-left: 4px;\n",
       "    line-height: 19px;\n",
       "  }\n",
       "</style>\n",
       "<div class=\"ansiout\"></div>"
      ]
     },
     "metadata": {
      "application/vnd.databricks.v1+output": {
       "addedWidgets": {},
       "arguments": {},
       "data": "<div class=\"ansiout\"></div>",
       "datasetInfos": [],
       "metadata": {},
       "removedWidgets": [],
       "type": "html"
      }
     },
     "output_type": "display_data"
    }
   ],
   "source": [
    "# define a udf to convert numerical abbreviation to string numeric form\n",
    "@F.udf(returnType=StringType())\n",
    "def convert_numeric_abb_to_str_numeric_representation(value: str) -> str:\n",
    "    \"\"\"\n",
    "    converts value in numberical abbreviation form to string numeric form\n",
    "\n",
    "    Args:\n",
    "        value (str): value in numerical abbreviation form\n",
    "\n",
    "    Returns:\n",
    "        str: string numeric form of value\n",
    "    \"\"\"\n",
    "    try:\n",
    "        if value == None:\n",
    "            return None\n",
    "        elif value[-1] == \"M\":\n",
    "            num_part = value[:-1]\n",
    "            return num_part + \"000000\"\n",
    "        elif value[-1] == \"k\":\n",
    "            num_part = value[:-1]\n",
    "            return num_part + '000'\n",
    "        else:\n",
    "            return value\n",
    "    except Exception as e:\n",
    "        return \"An exception occured!\"\n",
    "    \n",
    "# define irrelevant values for the description column\n",
    "irrelevant_data = [\"No description available Story format\", \"No description available\"]\n",
    "    \n",
    "# Replace empty strings with null\n",
    "for column in df_pin.columns:\n",
    "    transformed_df = df_pin.withColumn(\n",
    "        column,\n",
    "        F.when(\n",
    "            F.col(column) == \"\", None\n",
    "        ).otherwise(F.col(column))\n",
    "    )\n",
    "\n",
    "# other transformations\n",
    "transformed_df = (\n",
    "    # change the irrelevant values in description column to null\n",
    "    transformed_df.withColumn(\n",
    "        \"description\",\n",
    "        F.when(\n",
    "            (F.col(\"description\") == irrelevant_data[0]) | (F.col(\"description\") == irrelevant_data[1]), None\n",
    "        ).otherwise(F.col(\"description\"))\n",
    "    )\n",
    "\n",
    "    # change 'User Info Error' values to null in 'follower_count' column\n",
    "    .withColumn(\n",
    "        \"follower_count\",\n",
    "        F.when(F.col(\"follower_count\") == \"User Info Error\", None).otherwise(F.col(\"follower_count\"))\n",
    "    )\n",
    "\n",
    "    # change 'Image src error' values to null in 'image_src' column\n",
    "    .withColumn(\n",
    "        \"image_src\",\n",
    "        F.when(F.col(\"image_src\") == 'Image src error', None).otherwise(F.col(\"image_src\"))\n",
    "    )\n",
    "\n",
    "    # change 'User Info Error' values to null in 'poster_name' column\n",
    "    .withColumn(\n",
    "        \"poster_name\",\n",
    "        F.when(F.col(\"poster_name\") == 'User Info Error', None).otherwise(F.col(\"poster_name\"))\n",
    "    )\n",
    "\n",
    "    # change \"N,o,,T,a,g,s,,A,v,a,i,l,a,b,l,e\" value to null in 'tag_list'\n",
    "    .withColumn(\n",
    "        \"tag_list\",\n",
    "        F.when(F.col(\"tag_list\") == \"N,o, ,T,a,g,s, ,A,v,a,i,l,a,b,l,e\", None).otherwise(F.col(\"tag_list\"))\n",
    "    )\n",
    "\n",
    "    # change \"No Title Data Available\" value to null in 'title' column\n",
    "    .withColumn(\n",
    "        \"title\",\n",
    "        F.when(F.col(\"title\") == \"No Title Data Available\", None).otherwise(F.col(\"title\"))\n",
    "    )\n",
    "\n",
    "    # convert 'follower_count' column from numerical abbreviation to string numeric form\n",
    "    .withColumn(\"follower_count\", convert_numeric_abb_to_str_numeric_representation(F.col(\"follower_count\")))\n",
    "\n",
    "    # change datatype of 'follower_count' to int\n",
    "    .withColumn(\"follower_count\", F.col(\"follower_count\").cast(\"int\"))\n",
    "\n",
    "    # modify 'save_location' column to only contain the save location path\n",
    "    .withColumn(\"save_location\",\n",
    "                F.col(\"save_location\").substr(\n",
    "                    F.locate(substr=\"/\", str=\"save_location\", pos=1),\n",
    "                    F.length(F.col(\"save_location\"))\n",
    "                ))\n",
    "    \n",
    "    # rename 'index' column to ind\n",
    "    .withColumnRenamed(\"index\", \"ind\")\n",
    ")"
   ]
  },
  {
   "cell_type": "code",
   "execution_count": null,
   "metadata": {},
   "outputs": [],
   "source": [
    "# action to execute transformations\n",
    "transformed_df.show()"
   ]
  },
  {
   "cell_type": "markdown",
   "metadata": {
    "application/vnd.databricks.v1+cell": {
     "cellMetadata": {},
     "inputWidgets": {},
     "nuid": "0ba16c44-1cde-452c-aebb-33a35c4c1842",
     "showTitle": false,
     "title": ""
    }
   },
   "source": [
    "# Write cleaned dataframe as a delta table"
   ]
  },
  {
   "cell_type": "code",
   "execution_count": null,
   "metadata": {
    "application/vnd.databricks.v1+cell": {
     "cellMetadata": {},
     "inputWidgets": {},
     "nuid": "f3d48409-9f42-4da8-a06b-fba3346d5d4b",
     "showTitle": false,
     "title": ""
    }
   },
   "outputs": [],
   "source": [
    "transformed_df.write.format(\"delta\").mode(\"overwrite\").save(transformed_delta_pin_path)"
   ]
  }
 ],
 "metadata": {
  "application/vnd.databricks.v1+notebook": {
   "dashboards": [],
   "language": "python",
   "notebookMetadata": {
    "pythonIndentUnit": 4
   },
   "notebookName": "clean_df_pin",
   "widgets": {}
  },
  "language_info": {
   "name": "python"
  }
 },
 "nbformat": 4,
 "nbformat_minor": 0
}
