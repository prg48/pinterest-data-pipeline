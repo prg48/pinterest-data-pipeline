{
 "cells": [
  {
   "cell_type": "markdown",
   "metadata": {},
   "source": [
    "# Mount S3 storage that contains batch processing data"
   ]
  },
  {
   "cell_type": "code",
   "execution_count": null,
   "metadata": {
    "application/vnd.databricks.v1+cell": {
     "cellMetadata": {
      "byteLimit": 2048000,
      "rowLimit": 10000
     },
     "inputWidgets": {},
     "nuid": "19d3e985-3d9b-490e-93f5-dfa12030896c",
     "showTitle": false,
     "title": ""
    }
   },
   "outputs": [
    {
     "data": {
      "text/html": [
       "<style scoped>\n",
       "  .ansiout {\n",
       "    display: block;\n",
       "    unicode-bidi: embed;\n",
       "    white-space: pre-wrap;\n",
       "    word-wrap: break-word;\n",
       "    word-break: break-all;\n",
       "    font-family: \"Menlo\", \"Monaco\", \"Consolas\", \"Ubuntu Mono\", \"Source Code Pro\", monospace;\n",
       "    font-size: 13px;\n",
       "    color: #555;\n",
       "    margin-left: 4px;\n",
       "    line-height: 19px;\n",
       "  }\n",
       "</style>\n",
       "<div class=\"ansiout\">Out[10]: True</div>"
      ]
     },
     "metadata": {
      "application/vnd.databricks.v1+output": {
       "addedWidgets": {},
       "arguments": {},
       "data": "<div class=\"ansiout\">Out[10]: True</div>",
       "datasetInfos": [],
       "metadata": {},
       "removedWidgets": [],
       "type": "html"
      }
     },
     "output_type": "display_data"
    }
   ],
   "source": [
    "# get the aws access key, secret access key and s3 bucket name to mount the bucket from databricks secrets\n",
    "aws_access_key_id = dbutils.secrets.get(scope=\"aws\", key=\"access_key_id\")\n",
    "aws_secret_access_key = dbutils.secrets.get(scope=\"aws\", key=\"secret_access_key\")\n",
    "s3_bucket_name = dbutils.secrets.get(scope=\"aws\", key=\"s3_mount_bucket_name\")\n",
    "\n",
    "# encode the secret access key\n",
    "encoded_secret_access_key = aws_secret_access_key.replace(\"/\", \"%2F\")\n",
    "\n",
    "# define the mount point\n",
    "mount_point = f\"/mnt/pinterest_data\"\n",
    "\n",
    "# mount the s3 bucket\n",
    "dbutils.fs.mount(f\"s3a://{aws_access_key_id}:{encoded_secret_access_key}@{s3_bucket_name}\", mount_point)"
   ]
  },
  {
   "cell_type": "code",
   "execution_count": null,
   "metadata": {
    "application/vnd.databricks.v1+cell": {
     "cellMetadata": {},
     "inputWidgets": {},
     "nuid": "18cd722b-882d-470c-831d-88c2b0156217",
     "showTitle": false,
     "title": ""
    }
   },
   "outputs": [],
   "source": []
  }
 ],
 "metadata": {
  "application/vnd.databricks.v1+notebook": {
   "dashboards": [],
   "language": "python",
   "notebookMetadata": {
    "pythonIndentUnit": 4
   },
   "notebookName": "mount_s3_storage",
   "widgets": {}
  },
  "language_info": {
   "name": "python"
  }
 },
 "nbformat": 4,
 "nbformat_minor": 0
}
